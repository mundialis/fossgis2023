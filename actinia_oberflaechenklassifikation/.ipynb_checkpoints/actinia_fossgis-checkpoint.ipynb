{
 "cells": [
  {
   "cell_type": "markdown",
   "id": "26859918",
   "metadata": {},
   "source": [
    "![Image](actinia_logo.png)\n",
    "\n",
    "## Introduction\n",
    "\n",
    "Actinia is a REST service to process geographical data that can be\n",
    "managed by the GRASS GIS software system. The software is designed to\n",
    "expose a GRASS GIS database and many [GRASS GIS](https://grass.osgeo.org/) processing tools as a\n",
    "[REST service](https://en.wikipedia.org/wiki/Representational_State_Transfer).\n",
    "Hence, access to GRASS resources like raster maps,\n",
    "space-time raster datasets, processing and analysis modules are\n",
    "available via URL. In addition, actinia allows the cloud based processing\n",
    "of data, for example all Landsat 4-8 scenes as well as all\n",
    "Sentinel-2 scenes in an ephemeral database. The computational results\n",
    "of ephemeral processing are available via object storage as GeoTIFF/COG\n",
    "or GeoPackage files.\n",
    "\n",
    "The actinia service consists of the *[actinia core](https://github.com/actinia-org/actinia-core)*\n",
    "that provides the basic but sophisticated processing service and\n",
    "*[actinia plugins](https://github.com/orgs/mundialis/repositories?q=actinia+plugins&type=all&language=&sort=)*\n",
    "that provide problem specific services like NDVI computation from Sentinel-2\n",
    "or Landsat data, spatio-temporal statistical analysis and many more.\n",
    "\n",
    "The following example is a Jupyter Notebook version of the online\n",
    "[actinia tutorial](https://actinia-dev.mundialis.de/tutorial/introduction.html). "
   ]
  },
  {
   "cell_type": "markdown",
   "id": "c6a14f85",
   "metadata": {},
   "source": [
    "### What is REST?\n",
    "\n",
    "The Representational state transfer ([REST](https://en.wikipedia.org/wiki/Representational_State_Transfer))\n",
    "is an architectural style based on [HTTP](https://en.wikipedia.org/wiki/Hypertext_Transfer_Protocol)\n",
    "that uses the [request methods](https://en.wikipedia.org/wiki/Hypertext_Transfer_Protocol#Request_methods)\n",
    "GET, DELETE, POST, and PUT to manipulate and receive resources with stateless operations.\n",
    "\n",
    "While GET requests can be send easily from a browser, POST, PUT or\n",
    "DELETE request can not. To access the full potential of actinia you will\n",
    "need a HTTP client, that talks all HTTP communication methods. Here we will\n",
    "use this Jupyter Notebook for this purpose.\n",
    "\n",
    "### GRASS GIS Data Management\n",
    "\n",
    "![grass_format](images/grass_format.png)\n",
    "\n",
    "\n",
    "\n",
    "### Persistent vs. User Database\n",
    "<span style=\"color:red\">**TODO ????**</span>\n"
   ]
  },
  {
   "cell_type": "markdown",
   "id": "12ef4ac3",
   "metadata": {},
   "source": [
    "---\n",
    "\n",
    "### actinia API documentation\n",
    "\n",
    "* [Stable actinia API v3 docs](https://redocly.github.io/redoc/?url=https://actinia.mundialis.de/api/v3/swagger.json)\n",
    "* [Development actinia API v3 docs](https://redocly.github.io/redoc/?url=https://actinia-dev.mundialis.de/api/v3/swagger.json)"
   ]
  },
  {
   "cell_type": "markdown",
   "id": "76d620ef",
   "metadata": {},
   "source": [
    "---\n",
    "\n",
    "### Requirements\n",
    "\n",
    "#### Software & Modules\n",
    "\n",
    "This tutorial assumes your are comfortable with the [Python](https://python.org) programming language. Familiarity with basic REST API concepts and usage is also assumed.\n",
    "\n",
    "Python modules used in this tutorial are:\n",
    "* [requests](http://docs.python-requests.org/)\n",
    "* [json](https://docs.python.org/3/library/json.html)\n",
    "* [leafmap](https://leafmap.org/)\n",
    "\n",
    "#### Actinia API user and password\n",
    "\n",
    "This demo requires credentials for authentication set below in **Preparation** as a variable. Another actinia instance might require different credentials."
   ]
  },
  {
   "cell_type": "markdown",
   "id": "08c7f32c",
   "metadata": {},
   "source": [
    "### Helper Modules and Functions\n",
    "\n",
    "<span style=\"color:red\">**TODO is this needed???**</span>\n",
    "\n",
    "Before interacting with the actinia server using Python, we will import required packages an set up a helper function to print formatted JSON using json.\n",
    "\n",
    "***Note:*** *You may need to install two helpful browser plugins called **RESTman** and **JSON Formatter** that format JSON and makes it easier to read:*\n",
    "\n",
    "* [RESTman extension](https://chrome.google.com/webstore/detail/restman/ihgpcfpkpmdcghlnaofdmjkoemnlijdi)\n",
    "* [JSON Formatter](https://chrome.google.com/webstore/detail/json-formatter/bcjindcccaagfpapjjmafapmmgkkhgoa)"
   ]
  },
  {
   "cell_type": "markdown",
   "id": "f1a67b3a",
   "metadata": {},
   "source": [
    "## Preparation\n"
   ]
  },
  {
   "cell_type": "code",
   "execution_count": 12,
   "id": "451fdce3",
   "metadata": {},
   "outputs": [],
   "source": [
    "# first, let's import the required packages.\n",
    "\n",
    "from pprint import pprint\n",
    "import sys\n",
    "import json\n",
    "import shutil\n",
    "import time\n",
    "\n",
    "import requests\n",
    "from requests.auth import HTTPBasicAuth\n"
   ]
  },
  {
   "cell_type": "markdown",
   "id": "cb0e108e",
   "metadata": {
    "scrolled": true
   },
   "source": [
    "To simplify our life in terms of server communication we store the credentials and REST server URL in  variables."
   ]
  },
  {
   "cell_type": "code",
   "execution_count": 2,
   "id": "689620c9",
   "metadata": {},
   "outputs": [],
   "source": [
    "# variables to set the actinia host, version, and user\n",
    "\n",
    "actinia_baseurl = \"https://actinia.mundialis.de\"\n",
    "actinia_version = \"v3\"\n",
    "actinia_url = actinia_baseurl + \"/api/\" + actinia_version\n",
    "actinia_auth = HTTPBasicAuth('fossgis2023', 'ieh0ahweefavicieca6g')"
   ]
  },
  {
   "cell_type": "code",
   "execution_count": 3,
   "id": "ce062f38",
   "metadata": {},
   "outputs": [],
   "source": [
    "# helper function to print formatted JSON using the json module\n",
    "\n",
    "def print_as_json(data):\n",
    "    print(json.dumps(data, indent=2))\n",
    "\n",
    "# helper function to verify a request\n",
    "def verify_request(request, success_code=200):\n",
    "    if request.status_code != success_code:\n",
    "        print(\"ERROR: actinia processing failed with status code %d!\" % request.status_code)\n",
    "        print(\"See errors below:\")\n",
    "        print_as_json(request.json())\n",
    "        request_url = request.json()[\"urls\"][\"status\"]\n",
    "        requests.delete(url=request_url, auth=actinia_auth)\n",
    "        raise Exception(\"The resource <%s> has been terminated.\" % request_url)"
   ]
  },
  {
   "cell_type": "markdown",
   "id": "3f9ea23a",
   "metadata": {},
   "source": [
    "## Examples\n",
    "\n",
    "* Data management\n",
    "* Landsat and Sentinel-2 NDVI computation"
   ]
  },
  {
   "cell_type": "markdown",
   "id": "c1479e11",
   "metadata": {},
   "source": [
    "### Data management\n",
    "\n",
    "List all locations that are available in the actinia persistent database via endpoint `/locations`:"
   ]
  },
  {
   "cell_type": "code",
   "execution_count": 4,
   "id": "9a74b7f1",
   "metadata": {},
   "outputs": [
    {
     "name": "stdout",
     "output_type": "stream",
     "text": [
      "actinia GET request:\n",
      "https://actinia.mundialis.de/api/v3/locations\n",
      "---\n",
      "Available locations:\n",
      "{\n",
      "  \"locations\": [\n",
      "    \"latlong_wgs84\",\n",
      "    \"ECAD\",\n",
      "    \"nc_spm_08\",\n",
      "    \"fossgis2023_epsg25832_utm32N\"\n",
      "  ],\n",
      "  \"status\": \"success\"\n",
      "}\n"
     ]
    }
   ],
   "source": [
    "# make a GET request to the actinia data API\n",
    "request_url = actinia_url + \"/locations\"\n",
    "print(\"actinia GET request:\")\n",
    "print(request_url)\n",
    "print(\"---\")\n",
    "request = requests.get(url=request_url, auth=actinia_auth)\n",
    "\n",
    "# check if anything went wrong\n",
    "verify_request(request, 200)\n",
    "\n",
    "# get a json-encoded content of the response\n",
    "jsonResponse = request.json()\n",
    "\n",
    "print(\"Available locations:\")\n",
    "\n",
    "# print formatted JSON\n",
    "print_as_json(jsonResponse)"
   ]
  },
  {
   "cell_type": "markdown",
   "id": "5ff6d905",
   "metadata": {},
   "source": [
    "#### List mapsets in locations\n",
    "\n",
    "List all **mapsets** inside the location `fossgis2023_epsg25832_utm32N` via the endpoint `/locations/<location_name>/mapsets`:"
   ]
  },
  {
   "cell_type": "code",
   "execution_count": 5,
   "id": "150c9fa6",
   "metadata": {},
   "outputs": [
    {
     "name": "stdout",
     "output_type": "stream",
     "text": [
      "actinia GET request:\n",
      "https://actinia.mundialis.de/api/v3/locations/fossgis2023_epsg25832_utm32N/mapsets\n",
      "---\n",
      "Mapsets in fossgis2023_epsg25832_utm32N location:\n",
      "[\n",
      "  \"PERMANENT\"\n",
      "]\n"
     ]
    }
   ],
   "source": [
    "# make a GET request to the actinia data API\n",
    "request_url = actinia_url + \"/locations/fossgis2023_epsg25832_utm32N/mapsets\"\n",
    "print(\"actinia GET request:\")\n",
    "print(request_url)\n",
    "print(\"---\")\n",
    "request = requests.get(url=request_url, auth=actinia_auth)\n",
    "\n",
    "# check if anything went wrong\n",
    "verify_request(request, 200)\n",
    "\n",
    "# get a json-encoded content of the response\n",
    "jsonResponse = request.json()\n",
    "\n",
    "print(\"Mapsets in fossgis2023_epsg25832_utm32N location:\")\n",
    "\n",
    "# print formatted JSON\n",
    "print_as_json(jsonResponse[\"process_results\"])"
   ]
  },
  {
   "cell_type": "markdown",
   "id": "56391b19",
   "metadata": {},
   "source": [
    "#### List contents of a mapset\n",
    "\n",
    "List all **raster layers** in location `fossgis2023_epsg25832_utm32N` and mapset `PERMANENT` via endpoint `/locations/<location_name>/mapsets/<mapset>/raster_layers`:"
   ]
  },
  {
   "cell_type": "code",
   "execution_count": 6,
   "id": "7d82bc4f",
   "metadata": {},
   "outputs": [
    {
     "name": "stdout",
     "output_type": "stream",
     "text": [
      "actinia GET request:\n",
      "https://actinia.mundialis.de/api/v3/locations/fossgis2023_epsg25832_utm32N/mapsets/PERMANENT/raster_layers\n",
      "---\n",
      "Raster layers in mapset PERMANENT of location fossgis2023_epsg25832_utm32N:\n",
      "[\n",
      "  \"S2_NDVI_average\",\n",
      "  \"S2_NDVI_maximum\",\n",
      "  \"S2_NDVI_stddev\",\n",
      "  \"S2_NDWI_average\",\n",
      "  \"S2_NDWI_maximum\",\n",
      "  \"S2_NDWI_stddev\",\n",
      "  \"S2_brightness_average\",\n",
      "  \"S2_brightness_maximum\",\n",
      "  \"S2_brightness_stddev\",\n",
      "  \"dop_blue\",\n",
      "  \"dop_green\",\n",
      "  \"dop_nir\",\n",
      "  \"dop_red\",\n",
      "  \"ndom\",\n",
      "  \"training_set\"\n",
      "]\n"
     ]
    }
   ],
   "source": [
    "# make a GET request to the actinia data API\n",
    "request_url = actinia_url + \"/locations/fossgis2023_epsg25832_utm32N/mapsets/PERMANENT/raster_layers\"\n",
    "print(\"actinia GET request:\")\n",
    "print(request_url)\n",
    "print(\"---\")\n",
    "request = requests.get(url=request_url, auth=actinia_auth)\n",
    "\n",
    "# check if anything went wrong\n",
    "verify_request(request, 200)\n",
    "\n",
    "# get a json-encoded content of the response\n",
    "jsonResponse = request.json()\n",
    "\n",
    "print(\"Raster layers in mapset PERMANENT of location fossgis2023_epsg25832_utm32N:\")\n",
    "\n",
    "# print formatted JSON\n",
    "print_as_json(jsonResponse[\"process_results\"])"
   ]
  },
  {
   "cell_type": "markdown",
   "id": "829bbef6",
   "metadata": {},
   "source": [
    "Request **raster information** of nDOM via endpoint `/locations/<location_name>/mapsets/<mapset>/raster_layers/<raster>`:"
   ]
  },
  {
   "cell_type": "code",
   "execution_count": 13,
   "id": "80eda1b1",
   "metadata": {},
   "outputs": [
    {
     "name": "stdout",
     "output_type": "stream",
     "text": [
      "actinia GET request:\n",
      "https://actinia.mundialis.de/api/v3/locations/fossgis2023_epsg25832_utm32N/mapsets/PERMANENT/raster_layers/ndom\n",
      "---\n",
      "Raster info of ndom in mapset PERMANENT of location fossgis2023_epsg25832_utm32N:\n",
      "{\n",
      "  \"cells\": \"3577600\",\n",
      "  \"cols\": \"2080\",\n",
      "  \"comments\": \"\\\"r.in.gdal -a -k -r input=\\\"/mnt/data/geodata/versiegelungsdaten/ndom_\\\\bonn/ndom50_tiff_kacheln/ndom_bonn.vrt\\\" output=\\\"ndom\\\" memory=5000 of\\\\fset=0 num_digits=0\\\"\",\n",
      "  \"creator\": \"\\\"mundialis\\\"\",\n",
      "  \"database\": \"/actinia_core/workspace/temp_db/gisdbase_e3cc32e791454a1e99488935dcd3b4fc\",\n",
      "  \"datatype\": \"FCELL\",\n",
      "  \"date\": \"\\\"Tue Feb 21 09:42:05 2023\\\"\",\n",
      "  \"description\": \"\\\"generated by r.in.gdal\\\"\",\n",
      "  \"east\": \"369350\",\n",
      "  \"ewres\": \"0.5\",\n",
      "  \"location\": \"fossgis2023_epsg25832_utm32N\",\n",
      "  \"map\": \"ndom\",\n",
      "  \"mapset\": \"PERMANENT\",\n",
      "  \"maptype\": \"raster\",\n",
      "  \"max\": \"39.74\",\n",
      "  \"min\": \"-3.310001\",\n",
      "  \"ncats\": \"0\",\n",
      "  \"north\": \"5621100\",\n",
      "  \"nsres\": \"0.5\",\n",
      "  \"rows\": \"1720\",\n",
      "  \"semantic_label\": \"\\\"none\\\"\",\n",
      "  \"source1\": \"\\\"\\\"\",\n",
      "  \"source2\": \"\\\"\\\"\",\n",
      "  \"south\": \"5620240\",\n",
      "  \"timestamp\": \"\\\"none\\\"\",\n",
      "  \"title\": \"\\\"ndom\\\"\",\n",
      "  \"units\": \"\\\"none\\\"\",\n",
      "  \"vdatum\": \"\\\"none\\\"\",\n",
      "  \"west\": \"368310\"\n",
      "}\n"
     ]
    }
   ],
   "source": [
    "# make a GET request to the actinia data API\n",
    "request_url = actinia_url + \"/locations/fossgis2023_epsg25832_utm32N/mapsets/PERMANENT/raster_layers/ndom\"\n",
    "print(\"actinia GET request:\")\n",
    "print(request_url)\n",
    "print(\"---\")\n",
    "request = requests.get(url=request_url, auth=actinia_auth)\n",
    "\n",
    "# check if anything went wrong\n",
    "verify_request(request, 200)\n",
    "\n",
    "# get a json-encoded content of the response\n",
    "jsonResponse = request.json()\n",
    "\n",
    "print(\"Raster info of ndom in mapset PERMANENT of location fossgis2023_epsg25832_utm32N:\")\n",
    "\n",
    "# print formatted JSON\n",
    "print_as_json(jsonResponse[\"process_results\"])"
   ]
  },
  {
   "cell_type": "markdown",
   "id": "c9fd0811",
   "metadata": {},
   "source": [
    "**Render raster** ndom via endpoint `/locations/<location_name>/mapsets/<mapset>/raster_layers/<raster>/render`:"
   ]
  },
  {
   "cell_type": "code",
   "execution_count": 17,
   "id": "63ab0325",
   "metadata": {},
   "outputs": [
    {
     "name": "stdout",
     "output_type": "stream",
     "text": [
      "actinia GET request:\n",
      "https://actinia.mundialis.de/api/v3/locations/fossgis2023_epsg25832_utm32N/mapsets/PERMANENT/raster_layers/ndom/render\n",
      "---\n"
     ]
    }
   ],
   "source": [
    "# make a GET request to the actinia data API\n",
    "request_url = actinia_url + \"/locations/fossgis2023_epsg25832_utm32N/mapsets/PERMANENT/raster_layers/ndom/render\"\n",
    "print(\"actinia GET request:\")\n",
    "print(request_url)\n",
    "print(\"---\")\n",
    "request = requests.get(url=request_url, auth=actinia_auth, stream=True)\n",
    "\n",
    "# # check if anything went wrong\n",
    "# verify_request(request, 200)\n",
    "\n",
    "with open('img.png', 'wb') as out_file:\n",
    "    shutil.copyfileobj(request.raw, out_file)\n",
    "\n",
    "# # get a json-encoded content of the response\n",
    "# jsonResponse = request.json()\n",
    "\n",
    "# print(\"Raster info of ndom in mapset PERMANENT of location fossgis2023_epsg25832_utm32N:\")\n",
    "\n",
    "# # print formatted JSON\n",
    "# print_as_json(jsonResponse[\"process_results\"])\n",
    "\n",
    "\n",
    "# import shutil\n",
    "\n",
    "# import requests\n",
    "\n",
    "# url = 'http://example.com/img.png'\n",
    "# response = requests.get(url, stream=True)\n",
    "# with open('img.png', 'wb') as out_file:\n",
    "#     shutil.copyfileobj(response.raw, out_file)"
   ]
  },
  {
   "cell_type": "markdown",
   "id": "4cf4bd77",
   "metadata": {},
   "source": [
    "Show requested png\n",
    "![requested_ndom_png](img.png)"
   ]
  },
  {
   "cell_type": "markdown",
   "id": "25cd3b05",
   "metadata": {},
   "source": [
    "List all **vector layers** in location `fossgis2023_epsg25832_utm32N` and mapset `PERMANENT` via endpoint `/locations/<location_name>/mapsets/<mapset>/vector_layers`:"
   ]
  },
  {
   "cell_type": "code",
   "execution_count": 7,
   "id": "59f7f9fe",
   "metadata": {},
   "outputs": [
    {
     "name": "stdout",
     "output_type": "stream",
     "text": [
      "actinia GET request:\n",
      "https://actinia.mundialis.de/api/v3/locations/fossgis2023_epsg25832_utm32N/mapsets/PERMANENT/vector_layers\n",
      "---\n",
      "Vector layers in mapset PERMANENT of location fossgis2023_epsg25832_utm32N:\n",
      "[\n",
      "  \"alkis_nutzung\",\n",
      "  \"buildings\",\n",
      "  \"roads\",\n",
      "  \"training_set\"\n",
      "]\n"
     ]
    }
   ],
   "source": [
    "# make a GET request to the actinia data API\n",
    "request_url = actinia_url + \"/locations/fossgis2023_epsg25832_utm32N/mapsets/PERMANENT/vector_layers\"\n",
    "print(\"actinia GET request:\")\n",
    "print(request_url)\n",
    "print(\"---\")\n",
    "request = requests.get(url=request_url, auth=actinia_auth)\n",
    "\n",
    "# check if anything went wrong\n",
    "verify_request(request, 200)\n",
    "\n",
    "# get a json-encoded content of the response\n",
    "jsonResponse = request.json()\n",
    "\n",
    "print(\"Vector layers in mapset PERMANENT of location fossgis2023_epsg25832_utm32N:\")\n",
    "\n",
    "# print formatted JSON\n",
    "print_as_json(jsonResponse[\"process_results\"])"
   ]
  },
  {
   "cell_type": "markdown",
   "id": "f7e54bfd",
   "metadata": {},
   "source": [
    "---\n",
    "\n",
    "### User defined processing\n",
    "\n",
    "Actinia provides the **process chain approach** to specify import, processing and export of geodata using the actinia GRASS GIS processing system. \n",
    "\n",
    "\n",
    "#### What is a process chain\n",
    "A process chain is a list of GRASS GIS modules that will be executed in serial, based on the order of the list. GRASS GIS modules are specified as process definitions that include the name of the command, the inputs and outputs, including import and export definitions as well as the module flags.\n",
    "The process chain must be formulated in JSON. \n",
    "\n",
    "#### Ephemeral vs Persistent Processing\n",
    "\n",
    "The processing is always performed in an temporary ephemeral database, where the data from the persistent and user data bases are linked to.\n",
    "\n",
    "The process can then be performed **ephemeral** or **perstistent** processing.\n",
    "\n",
    "For the **persistent** processing the ephemeral database can be moved into the persistent user database, so that the computational results can be used in further processing steps or visualized using the actinia rendering REST calls.\n",
    "\n",
    "For the **ephemeral** processing the ephemeral database will be removed after computation.\n",
    "However, all raster and vector data that was generated during the processing can be exported using GDAL/OGR specific datatypes and stored in an object storage, outside the actinia environment. \n",
    "\n",
    "In both processing types we have read only access to all maps of the persistent database location that is used."
   ]
  },
  {
   "cell_type": "markdown",
   "id": "2591c918",
   "metadata": {},
   "source": [
    "#### Creating a process chain step-by-step\n",
    "\n",
    "Create a process chain step-by-step using the example of computing the Normalized Difference Vegetation Index (NDVI).\n",
    "\n",
    "First, create an empty process chain"
   ]
  },
  {
   "cell_type": "code",
   "execution_count": 8,
   "id": "631f1425",
   "metadata": {},
   "outputs": [],
   "source": [
    "process_chain = {\"version\": 1, \"list\": []}"
   ]
  },
  {
   "cell_type": "markdown",
   "id": "524ed150",
   "metadata": {},
   "source": [
    "Add first item to the process chain list.\n",
    "For raster operations we need to set the **computational region** to the region of interest with the desired resolution.\n",
    "\n",
    "***Note:*** You have to specifiy the map and mapset name: `map_name@mapset_name`"
   ]
  },
  {
   "cell_type": "code",
   "execution_count": 9,
   "id": "19988629",
   "metadata": {},
   "outputs": [
    {
     "name": "stdout",
     "output_type": "stream",
     "text": [
      "{\n",
      "  \"version\": 1,\n",
      "  \"list\": [\n",
      "    {\n",
      "      \"id\": \"g_region_to_dop\",\n",
      "      \"module\": \"g.region\",\n",
      "      \"inputs\": [\n",
      "        {\n",
      "          \"param\": \"raster\",\n",
      "          \"value\": \"dop_nir@PERMANENT\"\n",
      "        }\n",
      "      ],\n",
      "      \"flags\": \"p\"\n",
      "    }\n",
      "  ]\n",
      "}\n"
     ]
    }
   ],
   "source": [
    "# list item for g.region\n",
    "region_process = {\n",
    "  \"id\": \"g_region_to_dop\",\n",
    "  \"module\": \"g.region\",\n",
    "  \"inputs\": [\n",
    "      {\n",
    "          \"param\": \"raster\",\n",
    "          \"value\": \"dop_nir@PERMANENT\"\n",
    "      }\n",
    "  ],\n",
    "  \"flags\": \"p\"\n",
    "}\n",
    "process_chain[\"list\"].append(region_process)\n",
    "print_as_json(process_chain)"
   ]
  },
  {
   "cell_type": "markdown",
   "id": "05521c83",
   "metadata": {},
   "source": [
    "Then add the NDVI processing to the process chain list"
   ]
  },
  {
   "cell_type": "code",
   "execution_count": 10,
   "id": "7a3f7980",
   "metadata": {},
   "outputs": [
    {
     "name": "stdout",
     "output_type": "stream",
     "text": [
      "{\n",
      "  \"version\": 1,\n",
      "  \"list\": [\n",
      "    {\n",
      "      \"id\": \"g_region_to_dop\",\n",
      "      \"module\": \"g.region\",\n",
      "      \"inputs\": [\n",
      "        {\n",
      "          \"param\": \"raster\",\n",
      "          \"value\": \"dop_nir@PERMANENT\"\n",
      "        }\n",
      "      ],\n",
      "      \"flags\": \"p\"\n",
      "    },\n",
      "    {\n",
      "      \"id\": \"r_mapcalc_ndvi\",\n",
      "      \"module\": \"r.mapcalc\",\n",
      "      \"inputs\": [\n",
      "        {\n",
      "          \"param\": \"expression\",\n",
      "          \"value\": \"ndvi = int(127.5 * ( float((dop_nir@PERMANENT - dop_red@PERMANENT) / (dop_nir@PERMANENT + dop_red@PERMANENT)) + 1.0 ) )\"\n",
      "        }\n",
      "      ]\n",
      "    }\n",
      "  ]\n",
      "}\n"
     ]
    }
   ],
   "source": [
    "# list item for r.mapcalc\n",
    "ndvi_process = {\n",
    "  \"id\": \"r_mapcalc_ndvi\",\n",
    "  \"module\": \"r.mapcalc\",\n",
    "  \"inputs\": [\n",
    "      {\n",
    "          \"param\": \"expression\",\n",
    "          \"value\": \"ndvi = int(127.5 * ( float((dop_nir@PERMANENT - dop_red@PERMANENT) / (dop_nir@PERMANENT + dop_red@PERMANENT)) + 1.0 ) )\"\n",
    "      }\n",
    "  ]\n",
    "}\n",
    "process_chain[\"list\"].append(ndvi_process)\n",
    "print_as_json(process_chain)"
   ]
  },
  {
   "cell_type": "markdown",
   "id": "be1fe396",
   "metadata": {},
   "source": [
    "Print the statistics of the NDVI"
   ]
  },
  {
   "cell_type": "code",
   "execution_count": 11,
   "id": "ae071f5f",
   "metadata": {},
   "outputs": [
    {
     "name": "stdout",
     "output_type": "stream",
     "text": [
      "{\n",
      "  \"version\": 1,\n",
      "  \"list\": [\n",
      "    {\n",
      "      \"id\": \"g_region_to_dop\",\n",
      "      \"module\": \"g.region\",\n",
      "      \"inputs\": [\n",
      "        {\n",
      "          \"param\": \"raster\",\n",
      "          \"value\": \"dop_nir@PERMANENT\"\n",
      "        }\n",
      "      ],\n",
      "      \"flags\": \"p\"\n",
      "    },\n",
      "    {\n",
      "      \"id\": \"r_mapcalc_ndvi\",\n",
      "      \"module\": \"r.mapcalc\",\n",
      "      \"inputs\": [\n",
      "        {\n",
      "          \"param\": \"expression\",\n",
      "          \"value\": \"ndvi = int(127.5 * ( float((dop_nir@PERMANENT - dop_red@PERMANENT) / (dop_nir@PERMANENT + dop_red@PERMANENT)) + 1.0 ) )\"\n",
      "        }\n",
      "      ]\n",
      "    },\n",
      "    {\n",
      "      \"id\": \"r_univar_ndvi\",\n",
      "      \"module\": \"r.univar\",\n",
      "      \"inputs\": [\n",
      "        {\n",
      "          \"param\": \"map\",\n",
      "          \"value\": \"ndvi\"\n",
      "        }\n",
      "      ],\n",
      "      \"flags\": \"g\",\n",
      "      \"stdout\": {\n",
      "        \"id\": \"ndvi_stats\",\n",
      "        \"format\": \"kv\",\n",
      "        \"delimiter\": \"=\"\n",
      "      }\n",
      "    }\n",
      "  ]\n",
      "}\n"
     ]
    }
   ],
   "source": [
    "# list item for r.univar\n",
    "ndvi_stats_process = {\n",
    "          \"id\": \"r_univar_ndvi\",\n",
    "          \"module\": \"r.univar\",\n",
    "          \"inputs\": [\n",
    "              {\n",
    "                  \"param\": \"map\",\n",
    "                  \"value\": \"ndvi\"\n",
    "              }\n",
    "          ],\n",
    "          \"flags\": \"g\",\n",
    "          \"stdout\": {\"id\": \"ndvi_stats\", \"format\": \"kv\", \"delimiter\": \"=\"}\n",
    "      }\n",
    "process_chain[\"list\"].append(ndvi_stats_process)\n",
    "print_as_json(process_chain)"
   ]
  },
  {
   "cell_type": "markdown",
   "id": "064de4ea",
   "metadata": {},
   "source": [
    "Export NDVI as COG since we calculate ephemeral:"
   ]
  },
  {
   "cell_type": "code",
   "execution_count": 13,
   "id": "b32574d8",
   "metadata": {},
   "outputs": [
    {
     "name": "stdout",
     "output_type": "stream",
     "text": [
      "{\n",
      "  \"version\": 1,\n",
      "  \"list\": [\n",
      "    {\n",
      "      \"id\": \"g_region_to_dop\",\n",
      "      \"module\": \"g.region\",\n",
      "      \"inputs\": [\n",
      "        {\n",
      "          \"param\": \"raster\",\n",
      "          \"value\": \"dop_nir@PERMANENT\"\n",
      "        }\n",
      "      ],\n",
      "      \"flags\": \"p\"\n",
      "    },\n",
      "    {\n",
      "      \"id\": \"r_mapcalc_ndvi\",\n",
      "      \"module\": \"r.mapcalc\",\n",
      "      \"inputs\": [\n",
      "        {\n",
      "          \"param\": \"expression\",\n",
      "          \"value\": \"ndvi = int(127.5 * ( float((dop_nir@PERMANENT - dop_red@PERMANENT) / (dop_nir@PERMANENT + dop_red@PERMANENT)) + 1.0 ) )\"\n",
      "        }\n",
      "      ]\n",
      "    },\n",
      "    {\n",
      "      \"id\": \"r_univar_ndvi\",\n",
      "      \"module\": \"r.univar\",\n",
      "      \"inputs\": [\n",
      "        {\n",
      "          \"param\": \"map\",\n",
      "          \"value\": \"ndvi\"\n",
      "        }\n",
      "      ],\n",
      "      \"flags\": \"g\",\n",
      "      \"stdout\": {\n",
      "        \"id\": \"ndvi_stats\",\n",
      "        \"format\": \"kv\",\n",
      "        \"delimiter\": \"=\"\n",
      "      }\n",
      "    },\n",
      "    {\n",
      "      \"id\": \"exporter_ndvi\",\n",
      "      \"module\": \"exporter\",\n",
      "      \"outputs\": [\n",
      "        {\n",
      "          \"export\": {\n",
      "            \"type\": \"raster\",\n",
      "            \"format\": \"COG\"\n",
      "          },\n",
      "          \"param\": \"map\",\n",
      "          \"value\": \"ndvi\"\n",
      "        }\n",
      "      ]\n",
      "    }\n",
      "  ]\n",
      "}\n"
     ]
    }
   ],
   "source": [
    "# list item for exporter\n",
    "export_process = {\n",
    "  \"id\": \"exporter_ndvi\",\n",
    "  \"module\": \"exporter\",\n",
    "  \"outputs\": [\n",
    "    {\n",
    "      \"export\": {\n",
    "        \"type\": \"raster\",\n",
    "        \"format\": \"COG\"\n",
    "      },\n",
    "      \"param\": \"map\",\n",
    "      \"value\": \"ndvi\"\n",
    "    }\n",
    "  ]\n",
    "}\n",
    "process_chain[\"list\"].append(export_process)\n",
    "print_as_json(process_chain)"
   ]
  },
  {
   "cell_type": "markdown",
   "id": "69ad332e",
   "metadata": {},
   "source": [
    "Execute the job by posting the process chain to the ephemeral endpoint `/locations/<location_name>/processing_async_export`"
   ]
  },
  {
   "cell_type": "code",
   "execution_count": 14,
   "id": "65a0a36c",
   "metadata": {},
   "outputs": [
    {
     "name": "stdout",
     "output_type": "stream",
     "text": [
      "Response with status code 200:\n",
      "{\n",
      "  \"accept_datetime\": \"2023-03-02 19:16:39.847888\",\n",
      "  \"accept_timestamp\": 1677784599.8478851,\n",
      "  \"api_info\": {\n",
      "    \"endpoint\": \"asyncephemeralexportresource\",\n",
      "    \"method\": \"POST\",\n",
      "    \"path\": \"/api/v3/locations/fossgis2023_epsg25832_utm32N/processing_async_export\",\n",
      "    \"request_url\": \"http://actinia.mundialis.de/api/v3/locations/fossgis2023_epsg25832_utm32N/processing_async_export\"\n",
      "  },\n",
      "  \"datetime\": \"2023-03-02 19:16:39.850234\",\n",
      "  \"http_code\": 200,\n",
      "  \"message\": \"Resource accepted\",\n",
      "  \"process_chain_list\": [],\n",
      "  \"process_results\": {},\n",
      "  \"queue\": \"local\",\n",
      "  \"resource_id\": \"resource_id-26f63a8f-de78-4936-b8d5-6ff15ef8ae80\",\n",
      "  \"status\": \"accepted\",\n",
      "  \"time_delta\": 0.0023555755615234375,\n",
      "  \"timestamp\": 1677784599.8502328,\n",
      "  \"urls\": {\n",
      "    \"resources\": [],\n",
      "    \"status\": \"https://actinia.mundialis.de/api/v3/resources/fossgis2023/resource_id-26f63a8f-de78-4936-b8d5-6ff15ef8ae80\"\n",
      "  },\n",
      "  \"user_id\": \"fossgis2023\"\n",
      "}\n",
      "status url:\n",
      "https://actinia.mundialis.de/api/v3/resources/fossgis2023/resource_id-26f63a8f-de78-4936-b8d5-6ff15ef8ae80\n"
     ]
    }
   ],
   "source": [
    "# create a POST request to the Actinia Data API\n",
    "request_url = actinia_url + \"/locations/fossgis2023_epsg25832_utm32N/processing_async_export\"\n",
    "request = requests.post(url=request_url, auth=actinia_auth, json=process_chain)\n",
    "\n",
    "# check if anything went wrong\n",
    "verify_request(request, 200)\n",
    "\n",
    "# get a json-encoded content of the response\n",
    "jsonResponse = request.json()\n",
    "print(\"Response with status code %d:\" % request.status_code)\n",
    "\n",
    "# print formatted JSON\n",
    "print_as_json(jsonResponse)\n",
    "\n",
    "# status url\n",
    "request_url = jsonResponse[\"urls\"][\"status\"]\n",
    "print(\"status url:\")\n",
    "print(request_url)"
   ]
  },
  {
   "cell_type": "markdown",
   "id": "631dbbbc",
   "metadata": {},
   "source": [
    "Most important from the actinia response is the **status**, which should be `accepted` or `running`, and the **status url** under `urls - status`.\n",
    "\n",
    "The processing is asynchronously which means that the request is send and you get only the status url so you can request the current status of the processing until the job is finished.\n",
    "\n",
    "The **status** of a process can be:\n",
    "* accepted: actinia received the job and will start the processing soon\n",
    "* running: actinia is running the job\n",
    "* finished: actinia finished the job sucessfully\n",
    "* error: during running the job an error occured\n",
    "* terminated: a user terminated the job"
   ]
  },
  {
   "cell_type": "markdown",
   "id": "25e91b81",
   "metadata": {},
   "source": [
    "Request job until finished or error:"
   ]
  },
  {
   "cell_type": "code",
   "execution_count": 15,
   "id": "baa47f56",
   "metadata": {},
   "outputs": [
    {
     "name": "stdout",
     "output_type": "stream",
     "text": [
      "https://actinia.mundialis.de/api/v3/resources/fossgis2023/resource_id-26f63a8f-de78-4936-b8d5-6ff15ef8ae80\n",
      "{\n",
      "  \"accept_datetime\": \"2023-03-02 19:16:39.847888\",\n",
      "  \"accept_timestamp\": 1677784599.8478851,\n",
      "  \"api_info\": {\n",
      "    \"endpoint\": \"asyncephemeralexportresource\",\n",
      "    \"method\": \"POST\",\n",
      "    \"path\": \"/api/v3/locations/fossgis2023_epsg25832_utm32N/processing_async_export\",\n",
      "    \"request_url\": \"http://actinia.mundialis.de/api/v3/locations/fossgis2023_epsg25832_utm32N/processing_async_export\"\n",
      "  },\n",
      "  \"datetime\": \"2023-03-02 19:16:53.267496\",\n",
      "  \"http_code\": 200,\n",
      "  \"message\": \"Processing successfully finished\",\n",
      "  \"process_chain_list\": [\n",
      "    {\n",
      "      \"list\": [\n",
      "        {\n",
      "          \"flags\": \"p\",\n",
      "          \"id\": \"g_region_to_dop\",\n",
      "          \"inputs\": [\n",
      "            {\n",
      "              \"param\": \"raster\",\n",
      "              \"value\": \"dop_nir@PERMANENT\"\n",
      "            }\n",
      "          ],\n",
      "          \"module\": \"g.region\"\n",
      "        },\n",
      "        {\n",
      "          \"id\": \"r_mapcalc_ndvi\",\n",
      "          \"inputs\": [\n",
      "            {\n",
      "              \"param\": \"expression\",\n",
      "              \"value\": \"ndvi = int(127.5 * ( float((dop_nir@PERMANENT - dop_red@PERMANENT) / (dop_nir@PERMANENT + dop_red@PERMANENT)) + 1.0 ) )\"\n",
      "            }\n",
      "          ],\n",
      "          \"module\": \"r.mapcalc\"\n",
      "        },\n",
      "        {\n",
      "          \"flags\": \"g\",\n",
      "          \"id\": \"r_univar_ndvi\",\n",
      "          \"inputs\": [\n",
      "            {\n",
      "              \"param\": \"map\",\n",
      "              \"value\": \"ndvi\"\n",
      "            }\n",
      "          ],\n",
      "          \"module\": \"r.univar\",\n",
      "          \"stdout\": {\n",
      "            \"delimiter\": \"=\",\n",
      "            \"format\": \"kv\",\n",
      "            \"id\": \"ndvi_stats\"\n",
      "          }\n",
      "        },\n",
      "        {\n",
      "          \"id\": \"exporter_ndvi\",\n",
      "          \"module\": \"exporter\",\n",
      "          \"outputs\": [\n",
      "            {\n",
      "              \"export\": {\n",
      "                \"format\": \"COG\",\n",
      "                \"type\": \"raster\"\n",
      "              },\n",
      "              \"param\": \"map\",\n",
      "              \"value\": \"ndvi\"\n",
      "            }\n",
      "          ]\n",
      "        }\n",
      "      ],\n",
      "      \"version\": 1\n",
      "    }\n",
      "  ],\n",
      "  \"process_log\": [\n",
      "    {\n",
      "      \"executable\": \"g.region\",\n",
      "      \"id\": \"g_region_to_dop\",\n",
      "      \"mapset_size\": 417,\n",
      "      \"parameter\": [\n",
      "        \"raster=dop_nir@PERMANENT\",\n",
      "        \"-p\"\n",
      "      ],\n",
      "      \"return_code\": 0,\n",
      "      \"run_time\": 0.10050106048583984,\n",
      "      \"stderr\": [\n",
      "        \"\"\n",
      "      ],\n",
      "      \"stdout\": \"projection: 1 (UTM)\\nzone:       32\\ndatum:      etrs89\\nellipsoid:  grs80\\nnorth:      5621100\\nsouth:      5620240\\nwest:       368310\\neast:       369350\\nnsres:      0.2\\newres:      0.2\\nrows:       4300\\ncols:       5200\\ncells:      22360000\\n\"\n",
      "    },\n",
      "    {\n",
      "      \"executable\": \"r.mapcalc\",\n",
      "      \"id\": \"r_mapcalc_ndvi\",\n",
      "      \"mapset_size\": 15936763,\n",
      "      \"parameter\": [\n",
      "        \"expression=ndvi = int(127.5 * ( float((dop_nir@PERMANENT - dop_red@PERMANENT) / (dop_nir@PERMANENT + dop_red@PERMANENT)) + 1.0 ) )\"\n",
      "      ],\n",
      "      \"return_code\": 0,\n",
      "      \"run_time\": 6.5288474559783936,\n",
      "      \"stderr\": [\n",
      "        \"\"\n",
      "      ],\n",
      "      \"stdout\": \"\"\n",
      "    },\n",
      "    {\n",
      "      \"executable\": \"r.univar\",\n",
      "      \"id\": \"r_univar_ndvi\",\n",
      "      \"mapset_size\": 15936763,\n",
      "      \"parameter\": [\n",
      "        \"map=ndvi\",\n",
      "        \"-g\"\n",
      "      ],\n",
      "      \"return_code\": 0,\n",
      "      \"run_time\": 0.7529830932617188,\n",
      "      \"stderr\": [\n",
      "        \"\"\n",
      "      ],\n",
      "      \"stdout\": \"n=22360000\\nnull_cells=0\\ncells=22360000\\nmin=78\\nmax=229\\nrange=151\\nmean=163.656722495528\\nmean_of_abs=163.656722495528\\nstddev=32.2262446859188\\nvariance=1038.53084655671\\ncoeff_var=19.6913662906817\\nsum=3659364315\\n\"\n",
      "    },\n",
      "    {\n",
      "      \"executable\": \"r.out.gdal\",\n",
      "      \"id\": \"exporter_raster_ndvi\",\n",
      "      \"mapset_size\": 15936763,\n",
      "      \"parameter\": [\n",
      "        \"-fmt\",\n",
      "        \"input=ndvi\",\n",
      "        \"format=COG\",\n",
      "        \"output=/actinia_core/workspace/temp_db/gisdbase_75e0ce51b7f8422192daa5d8382178f0/.tmp/ndvi.tif\",\n",
      "        \"createopt=BIGTIFF=YES,COMPRESS=LZW\",\n",
      "        \"-c\"\n",
      "      ],\n",
      "      \"return_code\": 0,\n",
      "      \"run_time\": 2.7098023891448975,\n",
      "      \"stderr\": [\n",
      "        \"Driver <COG> does not support direct writing. Using MEM driver for intermediate dataset.\",\n",
      "        \"Checking GDAL data type and nodata value...\",\n",
      "        \"2..5..8..11..14..17..20..23..26..29..32..35..38..41..44..47..50..53..56..59..62..65..68..71..74..77..80..83..86..89..92..95..98..100\",\n",
      "        \"Using GDAL data type <Byte>\",\n",
      "        \"Warning 6: driver MEM does not support creation option BIGTIFF\",\n",
      "        \"Warning 6: driver MEM does not support creation option COMPRESS\",\n",
      "        \"Exporting raster data to COG format...\",\n",
      "        \"2..5..8..11..14..17..20..23..26..29..32..35..38..41..44..47..50..53..56..59..62..65..68..71..74..77..80..83..86..89..92..95..98..100\",\n",
      "        \"r.out.gdal complete. File </actinia_core/workspace/temp_db/gisdbase_75e0ce51b7f8422192daa5d8382178f0/.tmp/ndvi.tif> created.\",\n",
      "        \"\"\n",
      "      ],\n",
      "      \"stdout\": \"\"\n",
      "    }\n",
      "  ],\n",
      "  \"process_results\": {\n",
      "    \"ndvi_stats\": {\n",
      "      \"cells\": \"22360000\",\n",
      "      \"coeff_var\": \"19.6913662906817\",\n",
      "      \"max\": \"229\",\n",
      "      \"mean\": \"163.656722495528\",\n",
      "      \"mean_of_abs\": \"163.656722495528\",\n",
      "      \"min\": \"78\",\n",
      "      \"n\": \"22360000\",\n",
      "      \"null_cells\": \"0\",\n",
      "      \"range\": \"151\",\n",
      "      \"stddev\": \"32.2262446859188\",\n",
      "      \"sum\": \"3659364315\",\n",
      "      \"variance\": \"1038.53084655671\"\n",
      "    }\n",
      "  },\n",
      "  \"progress\": {\n",
      "    \"num_of_steps\": 4,\n",
      "    \"step\": 4\n",
      "  },\n",
      "  \"queue\": \"local\",\n",
      "  \"resource_id\": \"resource_id-26f63a8f-de78-4936-b8d5-6ff15ef8ae80\",\n",
      "  \"status\": \"finished\",\n",
      "  \"time_delta\": 13.41962480545044,\n",
      "  \"timestamp\": 1677784613.2674909,\n",
      "  \"urls\": {\n",
      "    \"resources\": [\n",
      "      \"https://actinia.mundialis.de/api/v3/resources/fossgis2023/resource_id-26f63a8f-de78-4936-b8d5-6ff15ef8ae80/ndvi.tif\"\n",
      "    ],\n",
      "    \"status\": \"https://actinia.mundialis.de/api/v3/resources/fossgis2023/resource_id-26f63a8f-de78-4936-b8d5-6ff15ef8ae80\"\n",
      "  },\n",
      "  \"user_id\": \"fossgis2023\"\n",
      "}\n"
     ]
    }
   ],
   "source": [
    "# continue polling until finished\n",
    "print(request_url)\n",
    "\n",
    "while request.status_code == 200 and \\\n",
    "        jsonResponse[\"message\"] != \"Processing successfully finished\":\n",
    "    request = requests.get(url=request_url, auth=actinia_auth)\n",
    "    jsonResponse = request.json()\n",
    "\n",
    "# check if anything went wrong\n",
    "verify_request(request, 200)\n",
    "    \n",
    "# print formatted JSON\n",
    "print_as_json(jsonResponse)"
   ]
  },
  {
   "cell_type": "markdown",
   "id": "3d000536",
   "metadata": {},
   "source": [
    "Visualization of maps computed with actinia in leafmap\n",
    "<span style=\"color:red\">**TODO MN Fragen, was hier falsch ist**</span>"
   ]
  },
  {
   "cell_type": "code",
   "execution_count": 16,
   "id": "6af05a5b",
   "metadata": {},
   "outputs": [
    {
     "ename": "KeyError",
     "evalue": "'band_descriptions'",
     "output_type": "error",
     "traceback": [
      "\u001b[0;31m---------------------------------------------------------------------------\u001b[0m",
      "\u001b[0;31mKeyError\u001b[0m                                  Traceback (most recent call last)",
      "Cell \u001b[0;32mIn[16], line 15\u001b[0m\n\u001b[1;32m     11\u001b[0m vmax \u001b[39m=\u001b[39m \u001b[39m221\u001b[39m\n\u001b[1;32m     13\u001b[0m m\u001b[39m.\u001b[39madd_colorbar(colors\u001b[39m=\u001b[39mcolors, vmin\u001b[39m=\u001b[39mvmin, vmax\u001b[39m=\u001b[39mvmax)\n\u001b[0;32m---> 15\u001b[0m m\u001b[39m.\u001b[39;49madd_cog_layer(ndvi_url, name\u001b[39m=\u001b[39;49m\u001b[39m\"\u001b[39;49m\u001b[39mNorth Carolina elevation hillshaded map\u001b[39;49m\u001b[39m\"\u001b[39;49m, \n\u001b[1;32m     16\u001b[0m                 attribution\u001b[39m=\u001b[39;49m\u001b[39m'\u001b[39;49m\u001b[39m<a href=\u001b[39;49m\u001b[39m\"\u001b[39;49m\u001b[39mhttps://grass.osgeo.org/download/data/\u001b[39;49m\u001b[39m\"\u001b[39;49m\u001b[39m>https://grass.osgeo.org/download/data/</a>\u001b[39;49m\u001b[39m'\u001b[39;49m)\n\u001b[1;32m     17\u001b[0m \u001b[39m# show map\u001b[39;00m\n\u001b[1;32m     18\u001b[0m m\n",
      "File \u001b[0;32m~/.local/lib/python3.8/site-packages/leafmap/leafmap.py:839\u001b[0m, in \u001b[0;36mMap.add_cog_layer\u001b[0;34m(self, url, name, attribution, opacity, shown, bands, titiler_endpoint, **kwargs)\u001b[0m\n\u001b[1;32m    813\u001b[0m \u001b[39mdef\u001b[39;00m \u001b[39madd_cog_layer\u001b[39m(\n\u001b[1;32m    814\u001b[0m     \u001b[39mself\u001b[39m,\n\u001b[1;32m    815\u001b[0m     url,\n\u001b[0;32m   (...)\u001b[0m\n\u001b[1;32m    822\u001b[0m     \u001b[39m*\u001b[39m\u001b[39m*\u001b[39mkwargs,\n\u001b[1;32m    823\u001b[0m ):\n\u001b[1;32m    824\u001b[0m     \u001b[39m\"\"\"Adds a COG TileLayer to the map.\u001b[39;00m\n\u001b[1;32m    825\u001b[0m \n\u001b[1;32m    826\u001b[0m \u001b[39m    Args:\u001b[39;00m\n\u001b[0;32m   (...)\u001b[0m\n\u001b[1;32m    837\u001b[0m \u001b[39m            apply a rescaling to multiple bands, use something like `rescale=[\"164,223\",\"130,211\",\"99,212\"]`.\u001b[39;00m\n\u001b[1;32m    838\u001b[0m \u001b[39m    \"\"\"\u001b[39;00m\n\u001b[0;32m--> 839\u001b[0m     tile_url \u001b[39m=\u001b[39m cog_tile(url, bands, titiler_endpoint, \u001b[39m*\u001b[39;49m\u001b[39m*\u001b[39;49mkwargs)\n\u001b[1;32m    840\u001b[0m     bounds \u001b[39m=\u001b[39m cog_bounds(url, titiler_endpoint)\n\u001b[1;32m    841\u001b[0m     \u001b[39mself\u001b[39m\u001b[39m.\u001b[39madd_tile_layer(tile_url, name, attribution, opacity, shown)\n",
      "File \u001b[0;32m~/.local/lib/python3.8/site-packages/leafmap/stac.py:147\u001b[0m, in \u001b[0;36mcog_tile\u001b[0;34m(url, bands, titiler_endpoint, **kwargs)\u001b[0m\n\u001b[1;32m    143\u001b[0m titiler_endpoint \u001b[39m=\u001b[39m check_titiler_endpoint(titiler_endpoint)\n\u001b[1;32m    145\u001b[0m kwargs[\u001b[39m\"\u001b[39m\u001b[39murl\u001b[39m\u001b[39m\"\u001b[39m] \u001b[39m=\u001b[39m url\n\u001b[0;32m--> 147\u001b[0m band_names \u001b[39m=\u001b[39m cog_bands(url, titiler_endpoint)\n\u001b[1;32m    149\u001b[0m \u001b[39mif\u001b[39;00m \u001b[39misinstance\u001b[39m(bands, \u001b[39mstr\u001b[39m):\n\u001b[1;32m    150\u001b[0m     bands \u001b[39m=\u001b[39m [bands]\n",
      "File \u001b[0;32m~/.local/lib/python3.8/site-packages/leafmap/stac.py:403\u001b[0m, in \u001b[0;36mcog_bands\u001b[0;34m(url, titiler_endpoint)\u001b[0m\n\u001b[1;32m    395\u001b[0m titiler_endpoint \u001b[39m=\u001b[39m check_titiler_endpoint(titiler_endpoint)\n\u001b[1;32m    396\u001b[0m r \u001b[39m=\u001b[39m requests\u001b[39m.\u001b[39mget(\n\u001b[1;32m    397\u001b[0m     \u001b[39mf\u001b[39m\u001b[39m\"\u001b[39m\u001b[39m{\u001b[39;00mtitiler_endpoint\u001b[39m}\u001b[39;00m\u001b[39m/cog/info\u001b[39m\u001b[39m\"\u001b[39m,\n\u001b[1;32m    398\u001b[0m     params\u001b[39m=\u001b[39m{\n\u001b[1;32m    399\u001b[0m         \u001b[39m\"\u001b[39m\u001b[39murl\u001b[39m\u001b[39m\"\u001b[39m: url,\n\u001b[1;32m    400\u001b[0m     },\n\u001b[1;32m    401\u001b[0m )\u001b[39m.\u001b[39mjson()\n\u001b[0;32m--> 403\u001b[0m bands \u001b[39m=\u001b[39m [b[\u001b[39m0\u001b[39m] \u001b[39mfor\u001b[39;00m b \u001b[39min\u001b[39;00m r[\u001b[39m\"\u001b[39;49m\u001b[39mband_descriptions\u001b[39;49m\u001b[39m\"\u001b[39;49m]]\n\u001b[1;32m    404\u001b[0m \u001b[39mreturn\u001b[39;00m bands\n",
      "\u001b[0;31mKeyError\u001b[0m: 'band_descriptions'"
     ]
    }
   ],
   "source": [
    "import leafmap\n",
    "\n",
    "ndvi_url = jsonResponse[\"urls\"][\"resources\"][0]\n",
    "\n",
    "\n",
    "m = leafmap.Map()\n",
    "\n",
    "# define colors as hex or RGB values\n",
    "colors = [(0, 0, 0), (255, 255, 255)]\n",
    "vmin = 0\n",
    "vmax = 255\n",
    "\n",
    "m.add_colorbar(colors=colors, vmin=vmin, vmax=vmax)\n",
    "\n",
    "m.add_cog_layer(ndvi_url, name=\"NDVI\", \n",
    "                attribution='<a href=\"https://grass.osgeo.org/download/data/\">https://grass.osgeo.org/download/data/</a>')\n",
    "# show map\n",
    "m"
   ]
  }
 ],
 "metadata": {
  "kernelspec": {
   "display_name": "Python 3 (ipykernel)",
   "language": "python",
   "name": "python3"
  },
  "language_info": {
   "codemirror_mode": {
    "name": "ipython",
    "version": 3
   },
   "file_extension": ".py",
   "mimetype": "text/x-python",
   "name": "python",
   "nbconvert_exporter": "python",
   "pygments_lexer": "ipython3",
   "version": "3.8.10"
  },
  "vscode": {
   "interpreter": {
    "hash": "df0893f56f349688326838aaeea0de204df53a132722cbd565e54b24a8fec5f6"
   }
  },
  "widgets": {
   "application/vnd.jupyter.widget-state+json": {
    "state": {},
    "version_major": 2,
    "version_minor": 0
   }
  }
 },
 "nbformat": 4,
 "nbformat_minor": 5
}
