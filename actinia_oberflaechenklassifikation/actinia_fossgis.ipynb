{
 "cells": [
  {
   "cell_type": "markdown",
   "id": "26859918",
   "metadata": {},
   "source": [
    "<img style=\"float: center;\" src=\"https://raw.githubusercontent.com/actinia-org/actinia-core/main/docs/docs/actinia_logo.svg\" width=\"25%\">\n",
    "\n",
    "## Einführung\n",
    "\n",
    "Die cloudbasierte Geoprocessing-Plattform [actinia](https://actinia.mundialis.de/)\n",
    "ist in der Lage, große Mengen von Geodaten in der Cloud zu verarbeiten und\n",
    "analysieren. Die Software vereinigt viele [GRASS GIS](https://grass.osgeo.org/)\n",
    "Verarbeitungswerkzeuge und Datenbanken als\n",
    "[REST-Dienst](https://en.wikipedia.org/wiki/Representational_State_Transfer).\n",
    "Daher ist der Zugriff auf GRASS-Ressourcen wie Rasterkarten, Raum-Zeit-Rasterdatensätze,\n",
    "Verarbeitungs- und Analysemodule sind über URLs verfügbar. Darüber hinaus ermöglicht\n",
    "actinia die cloudbasierte Verarbeitung von Daten, zum Beispiel alle Landsat 4-9 Szenen\n",
    "sowie alle Sentinel-2-Szenen in einer ephemeren Datenbank. Die Berechnungsergebnisse\n",
    "stehen in der ephemeren Verarbeitung über Objektspeicher als GeoTIFF/COG Rastedateien oder\n",
    "GeoPackage-Vektordateinen zur Verfügung.\n",
    "\n",
    "Der actinia-Dienst besteht aus dem *[actinia core](https://github.com/actinia-org/actinia-core)*,\n",
    "der den grundlegenden, aber anspruchsvollen Verarbeitungsdienst bereitstellt, und\n",
    "*[actinia plugins](https://github.com/orgs/actinia-org/repositories?q=actinia+plugins&type=all&language=&sort=)*,\n",
    "die themenpezifische Dienste wie NDVI-Berechnungen aus Sentinel-2 oder Landsat-Daten,\n",
    "räumlich-zeitliche statistische Analysen und vieles mehr.\n",
    "\n",
    "Das folgende Beispiel ist eine überarbeitete Jupyter Notebook Version des Online\n",
    "[actinia tutorial](https://actinia-dev.mundialis.de/tutorial/introduction.html)."
   ]
  },
  {
   "cell_type": "markdown",
   "id": "c6a14f85",
   "metadata": {},
   "source": [
    "### Was ist REST?\n",
    "\n",
    "Der Representational State Transfer ([REST](https://de.wikipedia.org/wiki/Representational_State_Transfer))\n",
    "ist eine Abstraktion der Struktur und des Verhaltens des World Wide Web\n",
    "([HTTP](https://de.wikipedia.org/wiki/Hypertext_Transfer_Protocol)). Ziel von REST\n",
    "ist es, einen Architekturstil zu schaffen, der den Anforderungen des modernen Web\n",
    "besser gerecht wird. Dabei unterscheidet sich REST von anderen Architekturstilen\n",
    "vor allem durch die Forderung nach einer einheitlichen Schnittstelle. Der Fokus von\n",
    "REST liegt auf der Maschine-zu-Maschine-Kommunikation. REST benutzt die\n",
    "\"[request methods](https://en.wikipedia.org/wiki/Hypertext_Transfer_Protocol#Request_methods)\"\n",
    "GET, DELETE, POST und PUT, um Ressourcen mit zustandslosen Operationen zu manipulieren\n",
    "und zu empfangen.\n",
    "\n",
    "Während GET-Anfragen einfach von einem Browser gesendet werden können, sind POST-,\n",
    "PUT- oder DELETE-Anfragen nicht möglich. Um das volle Potenzial von actinia zu nutzen,\n",
    "benötigen Sie einen HTTP-Client, der alle HTTP-Kommunikationsmethoden beherrscht.\n",
    "Für diesen Zweck werden wir hier dieses Jupyter Notebook verwenden.\n",
    "\n",
    "### GRASS GIS Data Management\n",
    "\n",
    "GRASS GIS, was im Kern von actinia verwendet wird, hat die in der Abbildung dargestellte Datenbankstruktur.\n",
    "\n",
    "![grass_format](images/grass_format.png)\n",
    "\n",
    "\n",
    "### Persistent vs. User Database\n",
    "\n",
    "<span style=\"color:red\">**TODO ????**</span>\n"
   ]
  },
  {
   "cell_type": "markdown",
   "id": "12ef4ac3",
   "metadata": {},
   "source": [
    "---\n",
    "\n",
    "### actinia API documentation\n",
    "\n",
    "* [Stable actinia API v3 docs](https://redocly.github.io/redoc/?url=https://actinia.mundialis.de/api/v3/swagger.json)\n",
    "* [Development actinia API v3 docs](https://redocly.github.io/redoc/?url=https://actinia-dev.mundialis.de/api/v3/swagger.json)"
   ]
  },
  {
   "cell_type": "markdown",
   "id": "76d620ef",
   "metadata": {},
   "source": [
    "---\n",
    "\n",
    "### Requirements\n",
    "\n",
    "#### Software & Modules\n",
    "\n",
    "This tutorial assumes your are comfortable with the [Python](https://python.org) programming language. Familiarity with basic REST API concepts and usage is also assumed.\n",
    "\n",
    "Python modules used in this tutorial are:\n",
    "* [requests](http://docs.python-requests.org/)\n",
    "* [json](https://docs.python.org/3/library/json.html)\n",
    "* [leafmap](https://leafmap.org/)\n",
    "\n",
    "#### Actinia API user and password\n",
    "\n",
    "This demo requires credentials for authentication set below in **Preparation** as a variable. Another actinia instance might require different credentials."
   ]
  },
  {
   "cell_type": "markdown",
   "id": "08c7f32c",
   "metadata": {},
   "source": [
    "### Helper Modules and Functions\n",
    "\n",
    "<span style=\"color:red\">**TODO is this needed???**</span>\n",
    "\n",
    "Before interacting with the actinia server using Python, we will import required packages an set up a helper function to print formatted JSON using json.\n",
    "\n",
    "***Note:*** *You may need to install two helpful browser plugins called **RESTman** and **JSON Formatter** that format JSON and makes it easier to read:*\n",
    "\n",
    "* [RESTman extension](https://chrome.google.com/webstore/detail/restman/ihgpcfpkpmdcghlnaofdmjkoemnlijdi)\n",
    "* [JSON Formatter](https://chrome.google.com/webstore/detail/json-formatter/bcjindcccaagfpapjjmafapmmgkkhgoa)"
   ]
  },
  {
   "cell_type": "markdown",
   "id": "f1a67b3a",
   "metadata": {},
   "source": [
    "## Preparation\n"
   ]
  },
  {
   "cell_type": "code",
   "execution_count": null,
   "id": "451fdce3",
   "metadata": {},
   "outputs": [],
   "source": [
    "# first, let's import the required packages.\n",
    "\n",
    "from pprint import pprint\n",
    "import sys\n",
    "import json\n",
    "import shutil\n",
    "import time\n",
    "\n",
    "import requests\n",
    "from requests.auth import HTTPBasicAuth\n"
   ]
  },
  {
   "cell_type": "markdown",
   "id": "cb0e108e",
   "metadata": {
    "scrolled": true
   },
   "source": [
    "To simplify our life in terms of server communication we store the credentials and REST server URL in  variables."
   ]
  },
  {
   "cell_type": "code",
   "execution_count": null,
   "id": "689620c9",
   "metadata": {},
   "outputs": [],
   "source": [
    "# variables to set the actinia host, version, and user\n",
    "\n",
    "actinia_baseurl = \"https://actinia.mundialis.de\"\n",
    "actinia_version = \"v3\"\n",
    "actinia_url = actinia_baseurl + \"/api/\" + actinia_version\n",
    "actinia_auth = HTTPBasicAuth('fossgis2023', 'ieh0ahweefavicieca6g')"
   ]
  },
  {
   "cell_type": "code",
   "execution_count": null,
   "id": "ce062f38",
   "metadata": {},
   "outputs": [],
   "source": [
    "# helper function to print formatted JSON using the json module\n",
    "\n",
    "def print_as_json(data):\n",
    "    print(json.dumps(data, indent=2))\n",
    "\n",
    "# helper function to verify a request\n",
    "def verify_request(request, success_code=200):\n",
    "    if request.status_code != success_code:\n",
    "        print(\"ERROR: actinia processing failed with status code %d!\" % request.status_code)\n",
    "        print(\"See errors below:\")\n",
    "        print_as_json(request.json())\n",
    "        request_url = request.json()[\"urls\"][\"status\"]\n",
    "        requests.delete(url=request_url, auth=actinia_auth)\n",
    "        raise Exception(\"The resource <%s> has been terminated.\" % request_url)"
   ]
  },
  {
   "cell_type": "markdown",
   "id": "3f9ea23a",
   "metadata": {},
   "source": [
    "## Examples\n",
    "\n",
    "* Data management\n",
    "* Landsat and Sentinel-2 NDVI computation"
   ]
  },
  {
   "cell_type": "markdown",
   "id": "c1479e11",
   "metadata": {},
   "source": [
    "### Data management\n",
    "\n",
    "List all locations that are available in the actinia persistent database via endpoint `/locations`:"
   ]
  },
  {
   "cell_type": "code",
   "execution_count": null,
   "id": "9a74b7f1",
   "metadata": {},
   "outputs": [],
   "source": [
    "# make a GET request to the actinia data API\n",
    "request_url = actinia_url + \"/locations\"\n",
    "print(\"actinia GET request:\")\n",
    "print(request_url)\n",
    "print(\"---\")\n",
    "request = requests.get(url=request_url, auth=actinia_auth)\n",
    "\n",
    "# check if anything went wrong\n",
    "verify_request(request, 200)\n",
    "\n",
    "# get a json-encoded content of the response\n",
    "jsonResponse = request.json()\n",
    "\n",
    "print(\"Available locations:\")\n",
    "\n",
    "# print formatted JSON\n",
    "print_as_json(jsonResponse)"
   ]
  },
  {
   "cell_type": "markdown",
   "id": "5ff6d905",
   "metadata": {},
   "source": [
    "#### List mapsets in locations\n",
    "\n",
    "List all **mapsets** inside the location `fossgis2023_epsg25832_utm32N` via the endpoint `/locations/<location_name>/mapsets`:"
   ]
  },
  {
   "cell_type": "code",
   "execution_count": null,
   "id": "150c9fa6",
   "metadata": {},
   "outputs": [],
   "source": [
    "# make a GET request to the actinia data API\n",
    "request_url = actinia_url + \"/locations/fossgis2023_epsg25832_utm32N/mapsets\"\n",
    "print(\"actinia GET request:\")\n",
    "print(request_url)\n",
    "print(\"---\")\n",
    "request = requests.get(url=request_url, auth=actinia_auth)\n",
    "\n",
    "# check if anything went wrong\n",
    "verify_request(request, 200)\n",
    "\n",
    "# get a json-encoded content of the response\n",
    "jsonResponse = request.json()\n",
    "\n",
    "print(\"Mapsets in fossgis2023_epsg25832_utm32N location:\")\n",
    "\n",
    "# print formatted JSON\n",
    "print_as_json(jsonResponse[\"process_results\"])"
   ]
  },
  {
   "cell_type": "markdown",
   "id": "56391b19",
   "metadata": {},
   "source": [
    "#### List contents of a mapset\n",
    "\n",
    "List all **raster layers** in location `fossgis2023_epsg25832_utm32N` and mapset `PERMANENT` via endpoint `/locations/<location_name>/mapsets/<mapset>/raster_layers`:"
   ]
  },
  {
   "cell_type": "code",
   "execution_count": null,
   "id": "7d82bc4f",
   "metadata": {},
   "outputs": [],
   "source": [
    "# make a GET request to the actinia data API\n",
    "request_url = actinia_url + \"/locations/fossgis2023_epsg25832_utm32N/mapsets/PERMANENT/raster_layers\"\n",
    "print(\"actinia GET request:\")\n",
    "print(request_url)\n",
    "print(\"---\")\n",
    "request = requests.get(url=request_url, auth=actinia_auth)\n",
    "\n",
    "# check if anything went wrong\n",
    "verify_request(request, 200)\n",
    "\n",
    "# get a json-encoded content of the response\n",
    "jsonResponse = request.json()\n",
    "\n",
    "print(\"Raster layers in mapset PERMANENT of location fossgis2023_epsg25832_utm32N:\")\n",
    "\n",
    "# print formatted JSON\n",
    "print_as_json(jsonResponse[\"process_results\"])"
   ]
  },
  {
   "cell_type": "markdown",
   "id": "829bbef6",
   "metadata": {},
   "source": [
    "Request **raster information** of nDOM via endpoint `/locations/<location_name>/mapsets/<mapset>/raster_layers/<raster>`:"
   ]
  },
  {
   "cell_type": "code",
   "execution_count": null,
   "id": "80eda1b1",
   "metadata": {},
   "outputs": [],
   "source": [
    "# make a GET request to the actinia data API\n",
    "request_url = actinia_url + \"/locations/fossgis2023_epsg25832_utm32N/mapsets/PERMANENT/raster_layers/ndom\"\n",
    "print(\"actinia GET request:\")\n",
    "print(request_url)\n",
    "print(\"---\")\n",
    "request = requests.get(url=request_url, auth=actinia_auth)\n",
    "\n",
    "# check if anything went wrong\n",
    "verify_request(request, 200)\n",
    "\n",
    "# get a json-encoded content of the response\n",
    "jsonResponse = request.json()\n",
    "\n",
    "print(\"Raster info of ndom in mapset PERMANENT of location fossgis2023_epsg25832_utm32N:\")\n",
    "\n",
    "# print formatted JSON\n",
    "print_as_json(jsonResponse[\"process_results\"])"
   ]
  },
  {
   "cell_type": "markdown",
   "id": "c9fd0811",
   "metadata": {},
   "source": [
    "**Render raster** ndom via endpoint `/locations/<location_name>/mapsets/<mapset>/raster_layers/<raster>/render`:"
   ]
  },
  {
   "cell_type": "code",
   "execution_count": null,
   "id": "63ab0325",
   "metadata": {},
   "outputs": [],
   "source": [
    "# make a GET request to the actinia data API\n",
    "request_url = actinia_url + \"/locations/fossgis2023_epsg25832_utm32N/mapsets/PERMANENT/raster_layers/ndom/render\"\n",
    "print(\"actinia GET request:\")\n",
    "print(request_url)\n",
    "print(\"---\")\n",
    "request = requests.get(url=request_url, auth=actinia_auth, stream=True)\n",
    "\n",
    "# # check if anything went wrong\n",
    "# verify_request(request, 200)\n",
    "\n",
    "with open('img.png', 'wb') as out_file:\n",
    "    shutil.copyfileobj(request.raw, out_file)\n",
    "\n",
    "# # get a json-encoded content of the response\n",
    "# jsonResponse = request.json()\n",
    "\n",
    "# print(\"Raster info of ndom in mapset PERMANENT of location fossgis2023_epsg25832_utm32N:\")\n",
    "\n",
    "# # print formatted JSON\n",
    "# print_as_json(jsonResponse[\"process_results\"])\n",
    "\n",
    "\n",
    "# import shutil\n",
    "\n",
    "# import requests\n",
    "\n",
    "# url = 'http://example.com/img.png'\n",
    "# response = requests.get(url, stream=True)\n",
    "# with open('img.png', 'wb') as out_file:\n",
    "#     shutil.copyfileobj(response.raw, out_file)"
   ]
  },
  {
   "cell_type": "markdown",
   "id": "4cf4bd77",
   "metadata": {},
   "source": [
    "Show requested png\n",
    "![requested_ndom_png](img.png)"
   ]
  },
  {
   "cell_type": "markdown",
   "id": "25cd3b05",
   "metadata": {},
   "source": [
    "List all **vector layers** in location `fossgis2023_epsg25832_utm32N` and mapset `PERMANENT` via endpoint `/locations/<location_name>/mapsets/<mapset>/vector_layers`:"
   ]
  },
  {
   "cell_type": "code",
   "execution_count": null,
   "id": "59f7f9fe",
   "metadata": {},
   "outputs": [],
   "source": [
    "# make a GET request to the actinia data API\n",
    "request_url = actinia_url + \"/locations/fossgis2023_epsg25832_utm32N/mapsets/PERMANENT/vector_layers\"\n",
    "print(\"actinia GET request:\")\n",
    "print(request_url)\n",
    "print(\"---\")\n",
    "request = requests.get(url=request_url, auth=actinia_auth)\n",
    "\n",
    "# check if anything went wrong\n",
    "verify_request(request, 200)\n",
    "\n",
    "# get a json-encoded content of the response\n",
    "jsonResponse = request.json()\n",
    "\n",
    "print(\"Vector layers in mapset PERMANENT of location fossgis2023_epsg25832_utm32N:\")\n",
    "\n",
    "# print formatted JSON\n",
    "print_as_json(jsonResponse[\"process_results\"])"
   ]
  },
  {
   "cell_type": "markdown",
   "id": "f7e54bfd",
   "metadata": {},
   "source": [
    "---\n",
    "\n",
    "### User defined processing\n",
    "\n",
    "Actinia provides the **process chain approach** to specify import, processing and export of geodata using the actinia GRASS GIS processing system. \n",
    "\n",
    "\n",
    "#### What is a process chain\n",
    "A process chain is a list of GRASS GIS modules that will be executed in serial, based on the order of the list. GRASS GIS modules are specified as process definitions that include the name of the command, the inputs and outputs, including import and export definitions as well as the module flags.\n",
    "The process chain must be formulated in JSON. \n",
    "\n",
    "#### Ephemeral vs Persistent Processing\n",
    "\n",
    "The processing is always performed in an temporary ephemeral database, where the data from the persistent and user data bases are linked to.\n",
    "\n",
    "The process can then be performed **ephemeral** or **perstistent** processing.\n",
    "\n",
    "For the **persistent** processing the ephemeral database can be moved into the persistent user database, so that the computational results can be used in further processing steps or visualized using the actinia rendering REST calls.\n",
    "\n",
    "For the **ephemeral** processing the ephemeral database will be removed after computation.\n",
    "However, all raster and vector data that was generated during the processing can be exported using GDAL/OGR specific datatypes and stored in an object storage, outside the actinia environment. \n",
    "\n",
    "In both processing types we have read only access to all maps of the persistent database location that is used."
   ]
  },
  {
   "cell_type": "markdown",
   "id": "2591c918",
   "metadata": {},
   "source": [
    "#### Creating a process chain step-by-step\n",
    "\n",
    "Create a process chain step-by-step using the example of computing the Normalized Difference Vegetation Index (NDVI).\n",
    "\n",
    "First, create an empty process chain"
   ]
  },
  {
   "cell_type": "code",
   "execution_count": null,
   "id": "631f1425",
   "metadata": {},
   "outputs": [],
   "source": [
    "process_chain = {\"version\": 1, \"list\": []}"
   ]
  },
  {
   "cell_type": "markdown",
   "id": "524ed150",
   "metadata": {},
   "source": [
    "Add first item to the process chain list.\n",
    "For raster operations we need to set the **computational region** to the region of interest with the desired resolution.\n",
    "\n",
    "***Note:*** You have to specifiy the map and mapset name: `map_name@mapset_name`"
   ]
  },
  {
   "cell_type": "code",
   "execution_count": null,
   "id": "19988629",
   "metadata": {},
   "outputs": [],
   "source": [
    "# list item for g.region\n",
    "region_process = {\n",
    "  \"id\": \"g_region_to_dop\",\n",
    "  \"module\": \"g.region\",\n",
    "  \"inputs\": [\n",
    "      {\n",
    "          \"param\": \"raster\",\n",
    "          \"value\": \"dop_nir@PERMANENT\"\n",
    "      }\n",
    "  ],\n",
    "  \"flags\": \"p\"\n",
    "}\n",
    "process_chain[\"list\"].append(region_process)\n",
    "print_as_json(process_chain)"
   ]
  },
  {
   "cell_type": "markdown",
   "id": "05521c83",
   "metadata": {},
   "source": [
    "Then add the NDVI processing to the process chain list"
   ]
  },
  {
   "cell_type": "code",
   "execution_count": null,
   "id": "7a3f7980",
   "metadata": {},
   "outputs": [],
   "source": [
    "# list item for r.mapcalc\n",
    "ndvi_process = {\n",
    "  \"id\": \"r_mapcalc_ndvi\",\n",
    "  \"module\": \"r.mapcalc\",\n",
    "  \"inputs\": [\n",
    "      {\n",
    "          \"param\": \"expression\",\n",
    "          \"value\": \"ndvi = int(127.5 * ( float((dop_nir@PERMANENT - dop_red@PERMANENT) / (dop_nir@PERMANENT + dop_red@PERMANENT)) + 1.0 ) )\"\n",
    "      }\n",
    "  ]\n",
    "}\n",
    "process_chain[\"list\"].append(ndvi_process)\n",
    "print_as_json(process_chain)"
   ]
  },
  {
   "cell_type": "markdown",
   "id": "be1fe396",
   "metadata": {},
   "source": [
    "Print the statistics of the NDVI"
   ]
  },
  {
   "cell_type": "code",
   "execution_count": null,
   "id": "ae071f5f",
   "metadata": {},
   "outputs": [],
   "source": [
    "# list item for r.univar\n",
    "ndvi_stats_process = {\n",
    "          \"id\": \"r_univar_ndvi\",\n",
    "          \"module\": \"r.univar\",\n",
    "          \"inputs\": [\n",
    "              {\n",
    "                  \"param\": \"map\",\n",
    "                  \"value\": \"ndvi\"\n",
    "              }\n",
    "          ],\n",
    "          \"flags\": \"g\",\n",
    "          \"stdout\": {\"id\": \"ndvi_stats\", \"format\": \"kv\", \"delimiter\": \"=\"}\n",
    "      }\n",
    "process_chain[\"list\"].append(ndvi_stats_process)\n",
    "print_as_json(process_chain)"
   ]
  },
  {
   "cell_type": "markdown",
   "id": "064de4ea",
   "metadata": {},
   "source": [
    "Export NDVI as COG since we calculate ephemeral:"
   ]
  },
  {
   "cell_type": "code",
   "execution_count": null,
   "id": "b32574d8",
   "metadata": {},
   "outputs": [],
   "source": [
    "# list item for exporter\n",
    "export_process = {\n",
    "  \"id\": \"exporter_ndvi\",\n",
    "  \"module\": \"exporter\",\n",
    "  \"outputs\": [\n",
    "    {\n",
    "      \"export\": {\n",
    "        \"type\": \"raster\",\n",
    "        \"format\": \"COG\"\n",
    "      },\n",
    "      \"param\": \"map\",\n",
    "      \"value\": \"ndvi\"\n",
    "    }\n",
    "  ]\n",
    "}\n",
    "process_chain[\"list\"].append(export_process)\n",
    "print_as_json(process_chain)"
   ]
  },
  {
   "cell_type": "markdown",
   "id": "69ad332e",
   "metadata": {},
   "source": [
    "Execute the job by posting the process chain to the ephemeral endpoint `/locations/<location_name>/processing_async_export`"
   ]
  },
  {
   "cell_type": "code",
   "execution_count": null,
   "id": "65a0a36c",
   "metadata": {},
   "outputs": [],
   "source": [
    "# create a POST request to the Actinia Data API\n",
    "request_url = actinia_url + \"/locations/fossgis2023_epsg25832_utm32N/processing_async_export\"\n",
    "request = requests.post(url=request_url, auth=actinia_auth, json=process_chain)\n",
    "\n",
    "# check if anything went wrong\n",
    "verify_request(request, 200)\n",
    "\n",
    "# get a json-encoded content of the response\n",
    "jsonResponse = request.json()\n",
    "print(\"Response with status code %d:\" % request.status_code)\n",
    "\n",
    "# print formatted JSON\n",
    "print_as_json(jsonResponse)\n",
    "\n",
    "# status url\n",
    "request_url = jsonResponse[\"urls\"][\"status\"]\n",
    "print(\"status url:\")\n",
    "print(request_url)"
   ]
  },
  {
   "cell_type": "markdown",
   "id": "631dbbbc",
   "metadata": {},
   "source": [
    "Most important from the actinia response is the **status**, which should be `accepted` or `running`, and the **status url** under `urls - status`.\n",
    "\n",
    "The processing is asynchronously which means that the request is send and you get only the status url so you can request the current status of the processing until the job is finished.\n",
    "\n",
    "The **status** of a process can be:\n",
    "* accepted: actinia received the job and will start the processing soon\n",
    "* running: actinia is running the job\n",
    "* finished: actinia finished the job sucessfully\n",
    "* error: during running the job an error occured\n",
    "* terminated: a user terminated the job"
   ]
  },
  {
   "cell_type": "markdown",
   "id": "25e91b81",
   "metadata": {},
   "source": [
    "Request job until finished or error:"
   ]
  },
  {
   "cell_type": "code",
   "execution_count": null,
   "id": "baa47f56",
   "metadata": {},
   "outputs": [],
   "source": [
    "# continue polling until finished\n",
    "print(request_url)\n",
    "\n",
    "while request.status_code == 200 and \\\n",
    "        jsonResponse[\"message\"] != \"Processing successfully finished\":\n",
    "    request = requests.get(url=request_url, auth=actinia_auth)\n",
    "    jsonResponse = request.json()\n",
    "\n",
    "# check if anything went wrong\n",
    "verify_request(request, 200)\n",
    "    \n",
    "# print formatted JSON\n",
    "print_as_json(jsonResponse)"
   ]
  },
  {
   "cell_type": "markdown",
   "id": "3d000536",
   "metadata": {},
   "source": [
    "Visualization of maps computed with actinia in leafmap\n",
    "<span style=\"color:red\">**TODO MN Fragen, was hier falsch ist**</span>"
   ]
  },
  {
   "cell_type": "code",
   "execution_count": null,
   "id": "6af05a5b",
   "metadata": {},
   "outputs": [],
   "source": [
    "import leafmap\n",
    "\n",
    "ndvi_url = jsonResponse[\"urls\"][\"resources\"][0]\n",
    "\n",
    "\n",
    "m = leafmap.Map()\n",
    "\n",
    "# define colors as hex or RGB values\n",
    "colors = [(0, 0, 0), (255, 255, 255)]\n",
    "vmin = 0\n",
    "vmax = 255\n",
    "\n",
    "m.add_colorbar(colors=colors, vmin=vmin, vmax=vmax)\n",
    "\n",
    "m.add_cog_layer(ndvi_url, name=\"NDVI\", \n",
    "                attribution='<a href=\"https://grass.osgeo.org/download/data/\">https://grass.osgeo.org/download/data/</a>')\n",
    "# show map\n",
    "m"
   ]
  }
 ],
 "metadata": {
  "kernelspec": {
   "display_name": "Python 3 (ipykernel)",
   "language": "python",
   "name": "python3"
  },
  "language_info": {
   "codemirror_mode": {
    "name": "ipython",
    "version": 3
   },
   "file_extension": ".py",
   "mimetype": "text/x-python",
   "name": "python",
   "nbconvert_exporter": "python",
   "pygments_lexer": "ipython3",
   "version": "3.11.2"
  },
  "vscode": {
   "interpreter": {
    "hash": "df0893f56f349688326838aaeea0de204df53a132722cbd565e54b24a8fec5f6"
   }
  },
  "widgets": {
   "application/vnd.jupyter.widget-state+json": {
    "state": {},
    "version_major": 2,
    "version_minor": 0
   }
  }
 },
 "nbformat": 4,
 "nbformat_minor": 5
}
