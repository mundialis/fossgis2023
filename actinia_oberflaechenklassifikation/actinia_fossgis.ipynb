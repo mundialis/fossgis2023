{
 "cells": [
  {
   "cell_type": "markdown",
   "id": "26859918",
   "metadata": {},
   "source": [
    "<img style=\"float: center;\" src=\"https://raw.githubusercontent.com/actinia-org/actinia-core/main/docs/docs/actinia_logo.svg\" width=\"25%\">\n",
    "\n",
    "## Einführung\n",
    "\n",
    "Die cloudbasierte Geoprocessing-Plattform [actinia](https://actinia.mundialis.de/)\n",
    "ist in der Lage, große Mengen von Geodaten in der Cloud zu verarbeiten und zu\n",
    "analysieren. Die Software vereinigt viele [GRASS GIS](https://grass.osgeo.org/)\n",
    "Verarbeitungswerkzeuge und Datenbanken als\n",
    "[REST-Dienst](https://en.wikipedia.org/wiki/Representational_State_Transfer).\n",
    "Daher ist der Zugriff auf GRASS-Ressourcen wie Rasterkarten, Raum-Zeit-Rasterdatensätze,\n",
    "Verarbeitungs- und Analysemodule über URLs möglich. Darüber hinaus ermöglicht\n",
    "actinia die cloudbasierte Verarbeitung von Daten, zum Beispiel alle Landsat 4-9 Szenen\n",
    "sowie alle Sentinel-2-Szenen in einer ephemeren Datenbank. Die Berechnungsergebnisse\n",
    "stehen in der ephemeren Verarbeitung über Objektspeicher als GeoTIFF/COG Rasterdateien oder\n",
    "GeoPackage-Vektordateien zur Verfügung.\n",
    "\n",
    "Der actinia-Dienst besteht aus dem *[actinia core](https://github.com/actinia-org/actinia-core)*,\n",
    "der den grundlegenden, aber anspruchsvollen Verarbeitungsdienst bereitstellt, und\n",
    "*[actinia plugins](https://github.com/orgs/actinia-org/repositories?q=actinia+plugins&type=all&language=&sort=)*,\n",
    "die themenpezifische Dienste wie NDVI-Berechnungen aus Sentinel-2 oder Landsat-Daten,\n",
    "räumlich-zeitliche statistische Analysen und vieles mehr anbieten.\n",
    "\n",
    "Das folgende Beispiel ist eine überarbeitete Jupyter Notebook Version des Online\n",
    "[actinia Tutorials](https://actinia-dev.mundialis.de/tutorial/introduction.html)."
   ]
  },
  {
   "cell_type": "markdown",
   "id": "c6a14f85",
   "metadata": {},
   "source": [
    "### Was ist REST?\n",
    "\n",
    "Der Representational State Transfer ([REST](https://de.wikipedia.org/wiki/Representational_State_Transfer))\n",
    "ist eine Abstraktion der Struktur und des Verhaltens des World Wide Web\n",
    "([HTTP](https://de.wikipedia.org/wiki/Hypertext_Transfer_Protocol)). Ziel von REST\n",
    "ist es, einen Architekturstil zu schaffen, der den Anforderungen des modernen Web\n",
    "besser gerecht wird. Dabei unterscheidet sich REST von anderen Architekturstilen\n",
    "vor allem durch die Forderung nach einer einheitlichen Schnittstelle. Der Fokus von\n",
    "REST liegt auf der Maschine-zu-Maschine-Kommunikation. REST benutzt die\n",
    "\"[request methods](https://en.wikipedia.org/wiki/Hypertext_Transfer_Protocol#Request_methods)\"\n",
    "GET, DELETE, POST und PUT, um Ressourcen mit zustandslosen Operationen zu manipulieren\n",
    "und zu empfangen.\n",
    "\n",
    "Während GET-Anfragen einfach von einem Browser gesendet werden können, sind POST-,\n",
    "PUT- oder DELETE-Anfragen nicht möglich. Um das volle Potenzial von actinia zu nutzen,\n",
    "benötigen Sie einen HTTP-Client, der alle HTTP-Kommunikationsmethoden beherrscht.\n",
    "Für diesen Zweck werden wir hier dieses Jupyter Notebook verwenden.\n",
    "\n",
    "### GRASS GIS Data Management\n",
    "\n",
    "GRASS GIS, was intern neben GDAL und anderen Komponenten von actinia verwendet wird, hat die in der Abbildung dargestellte Datenbankstruktur.\n",
    "\n",
    "![grass_format](images/grass_format.png)\n",
    "\n",
    "**Funktionalität über GRASS GIS hinaus**\n",
    "\n",
    "Actinia ist nicht nur eine REST-Schnittstelle zu GRASS GIS, sondern bietet die Möglichkeit, seine Funktionalität mit anderer Software (ESA SNAP, GDAL, ...) zu erweitern. Um andere als GRASS GIS Software zu integrieren, muss ein Wrapper-Skript geschrieben werden (Stil: als GRASS GIS Addon Python-Skript), das dann die entsprechenden Funktionsaufrufe der zu integrierenden Software enthält. Der Aufruf von Shell-Befehlen in einer actinia-Prozesskette ist ebenfalls möglich, aber aufgrund von Sicherheitsrisiken eingeschränkt.\n",
    "\n",
    "\n",
    "### Persistent vs. User Database\n",
    "\n",
    "Unter **Persistentem Speicher** versteht man einen Datenspeicher, der die Daten auch bei einem Stromausfall und ohne geplante Löschzeiten aufbewahrt. Im Geo/EO-Kontext wird der persistente Speicher z. B. für die Bereitstellung von Basiskartographie verwendet, d. h. für Höhenmodelle, Straßennetze, Gebäudegrundrisse usw.\n",
    "\n",
    "Der **ephemere Speicher** wird für auf Anfrage berechnete Ergebnisse verwendet, einschließlich benutzergenerierter Daten und temporärer Daten, die in Verarbeitungsketten anfallen. In einem ephemeren Speicher werden die Daten nur für einen begrenzten Zeitraum aufbewahrt (z. B. in Actinia standardmäßig für 24 Stunden).\n",
    "\n",
    "Im Kontext des Cloud Computing sind diese Unterschiede relevant, da bei der Speicherung von Daten Kosten anfallen.\n",
    "\n",
    "Dementsprechend bietet actinia zwei Betriebsmodi an: persistente und ephemere (User) Verarbeitung. Insbesondere wird der **actinia server** typischerweise auf einem Server mit Zugriff auf eine persistente GRASS GIS Datenbank (PDB) und optional auf eine oder mehrere GRASS GIS Nutzerdatenbanken (UDB) eingesetzt."
   ]
  },
  {
   "cell_type": "markdown",
   "id": "12ef4ac3",
   "metadata": {},
   "source": [
    "---\n",
    "\n",
    "### actinia API documentation\n",
    "\n",
    "Die Schnittstellen Dokumentation findet sich hier:\n",
    "\n",
    "* [actinia \"stable\" API v3 docs](https://redocly.github.io/redoc/?url=https://actinia.mundialis.de/api/v3/swagger.json)\n",
    "* [actinia \"development\" API v3 docs](https://redocly.github.io/redoc/?url=https://actinia-dev.mundialis.de/api/v3/swagger.json)"
   ]
  },
  {
   "cell_type": "markdown",
   "id": "76d620ef",
   "metadata": {},
   "source": [
    "---\n",
    "\n",
    "### Anforderungen\n",
    "\n",
    "#### Software & Module\n",
    "\n",
    "Dieses Tutorial setzt voraus, dass Sie mit der Programmiersprache [Python](https://python.org) vertraut sind. Die Kenntnis grundlegender REST-API-Konzepte und deren Verwendung wird ebenfalls vorausgesetzt.\n",
    "\n",
    "Die in diesem Tutorium verwendeten Python-Module sind:\n",
    "* [requests](http://docs.python-requests.org/)\n",
    "* [json](https://docs.python.org/3/library/json.html)\n",
    "* [leafmap](https://leafmap.org/)\n",
    "\n",
    "#### Actinia API Benutzer und Passwort\n",
    "\n",
    "Für diese Demo werden die Anmeldedaten für die Authentifizierung benötigt, die unten in **Vorbereitung** als Variable festgelegt sind. Eine andere Actinia-Instanz kann andere Anmeldedaten erfordern."
   ]
  },
  {
   "cell_type": "markdown",
   "id": "08c7f32c",
   "metadata": {},
   "source": [
    "### Hilfsmodule und Funktionen\n",
    "\n",
    "<span style=\"color:red\">**TODO is this needed???**</span> --> MN: please no\n",
    "\n",
    "Bevor wir mit dem actinia-Server über Python interagieren, werden wir die erforderlichen Pakete importieren und eine Hilfsfunktion einrichten, um formatiertes JSON mit json zu drucken.\n",
    "\n",
    "***Hinweis:*** Möglicherweise müssen Sie zwei hilfreiche Browser-Plugins namens **RESTman** und **JSON Formatter** installieren, die JSON formatieren und leichter lesbar machen:\n",
    "\n",
    "* [RESTman-Erweiterung](https://chrome.google.com/webstore/detail/restman/ihgpcfpkpmdcghlnaofdmjkoemnlijdi)\n",
    "* [JSON Formatter](https://chrome.google.com/webstore/detail/json-formatter/bcjindcccaagfpapjjmafapmmgkkhgoa)"
   ]
  },
  {
   "cell_type": "markdown",
   "id": "f1a67b3a",
   "metadata": {},
   "source": [
    "## Vorbereitung\n",
    "\n",
    "Um diese Sitzung im Jupyter Notebook zu initialisieren, laden wir einige Python Bibliotheken."
   ]
  },
  {
   "cell_type": "code",
   "execution_count": 1,
   "id": "451fdce3",
   "metadata": {},
   "outputs": [],
   "source": [
    "# Zuerst werden die erforderlichen Python Bibliotheken importiert.\n",
    "\n",
    "from pprint import pprint\n",
    "import sys\n",
    "import json\n",
    "import shutil\n",
    "import time\n",
    "\n",
    "import requests\n",
    "from requests.auth import HTTPBasicAuth\n"
   ]
  },
  {
   "cell_type": "markdown",
   "id": "cb0e108e",
   "metadata": {
    "scrolled": true
   },
   "source": [
    "Um die Kommunikation mit dem actinia Server zu vereinfachen, speichern wir die Anmeldedaten und die URL des REST-Servers in Variablen:"
   ]
  },
  {
   "cell_type": "code",
   "execution_count": 5,
   "id": "689620c9",
   "metadata": {},
   "outputs": [],
   "source": [
    "# variables to set the actinia host, version, and user\n",
    "\n",
    "actinia_baseurl = \"https://actinia.mundialis.de\"\n",
    "actinia_version = \"v3\"\n",
    "actinia_url = actinia_baseurl + \"/api/\" + actinia_version\n",
    "actinia_auth = HTTPBasicAuth('fossgis2023', 'ieh0ahweefavicieca6g')"
   ]
  },
  {
   "cell_type": "code",
   "execution_count": 6,
   "id": "ce062f38",
   "metadata": {},
   "outputs": [],
   "source": [
    "# helper function to print formatted JSON using the json module\n",
    "\n",
    "def print_as_json(data):\n",
    "    print(json.dumps(data, indent=2))\n",
    "\n",
    "# helper function to verify a request\n",
    "def verify_request(request, success_code=200):\n",
    "    if request.status_code != success_code:\n",
    "        print(\"ERROR: actinia processing failed with status code %d!\" % request.status_code)\n",
    "        print(\"See errors below:\")\n",
    "        print_as_json(request.json())\n",
    "        request_url = request.json()[\"urls\"][\"status\"]\n",
    "        requests.delete(url=request_url, auth=actinia_auth)\n",
    "        raise Exception(\"The resource <%s> has been terminated.\" % request_url)"
   ]
  },
  {
   "cell_type": "markdown",
   "id": "3f9ea23a",
   "metadata": {},
   "source": [
    "## Beispiele\n",
    "\n",
    "* Datenverwaltung\n",
    "* NDVI-Berechnung mit Landsat-8 und Sentinel-2"
   ]
  },
  {
   "cell_type": "markdown",
   "id": "c1479e11",
   "metadata": {},
   "source": [
    "### Datenverwaltung\n",
    "\n",
    "Auflistung aller GRASS locations, die über den Endpunkt `/locations` in der persistenten Datenbank von actinia verfügbar sind:"
   ]
  },
  {
   "cell_type": "code",
   "execution_count": 7,
   "id": "9a74b7f1",
   "metadata": {},
   "outputs": [
    {
     "name": "stdout",
     "output_type": "stream",
     "text": [
      "actinia GET request:\n",
      "https://actinia.mundialis.de/api/v3/locations\n",
      "---\n",
      "Available locations:\n",
      "{\n",
      "  \"locations\": [\n",
      "    \"latlong_wgs84\",\n",
      "    \"ECAD\",\n",
      "    \"nc_spm_08\",\n",
      "    \"fossgis2023_epsg25832_utm32N\"\n",
      "  ],\n",
      "  \"status\": \"success\"\n",
      "}\n"
     ]
    }
   ],
   "source": [
    "# make a GET request to the actinia data API\n",
    "request_url = actinia_url + \"/locations\"\n",
    "print(\"actinia GET request:\")\n",
    "print(request_url)\n",
    "print(\"---\")\n",
    "request = requests.get(url=request_url, auth=actinia_auth)\n",
    "\n",
    "# check if anything went wrong\n",
    "verify_request(request, 200)\n",
    "\n",
    "# get a json-encoded content of the response\n",
    "jsonResponse = request.json()\n",
    "\n",
    "print(\"Available locations:\")\n",
    "\n",
    "# print formatted JSON\n",
    "print_as_json(jsonResponse)"
   ]
  },
  {
   "cell_type": "markdown",
   "id": "5ff6d905",
   "metadata": {},
   "source": [
    "#### Mapsets in Locations auflisten\n",
    "\n",
    "Auflisten aller **Mapsets** innerhalb der Location `fossgis2023_epsg25832_utm32N` über den Endpunkt `/locations/<location_name>/mapsets`:"
   ]
  },
  {
   "cell_type": "code",
   "execution_count": 8,
   "id": "150c9fa6",
   "metadata": {},
   "outputs": [
    {
     "name": "stdout",
     "output_type": "stream",
     "text": [
      "actinia GET request:\n",
      "https://actinia.mundialis.de/api/v3/locations/fossgis2023_epsg25832_utm32N/mapsets\n",
      "---\n",
      "Mapsets in fossgis2023_epsg25832_utm32N location:\n",
      "[\n",
      "  \"PERMANENT\"\n",
      "]\n"
     ]
    }
   ],
   "source": [
    "# make a GET request to the actinia data API\n",
    "request_url = actinia_url + \"/locations/fossgis2023_epsg25832_utm32N/mapsets\"\n",
    "print(\"actinia GET request:\")\n",
    "print(request_url)\n",
    "print(\"---\")\n",
    "request = requests.get(url=request_url, auth=actinia_auth)\n",
    "\n",
    "# check if anything went wrong\n",
    "verify_request(request, 200)\n",
    "\n",
    "# get a json-encoded content of the response\n",
    "jsonResponse = request.json()\n",
    "\n",
    "print(\"Mapsets in fossgis2023_epsg25832_utm32N location:\")\n",
    "\n",
    "# print formatted JSON\n",
    "print_as_json(jsonResponse[\"process_results\"])"
   ]
  },
  {
   "cell_type": "markdown",
   "id": "56391b19",
   "metadata": {},
   "source": [
    "#### Inhalt einer Mapset auflisten\n",
    "\n",
    "Auflisten aller **Rasterkarten** in der Location `fossgis2023_epsg25832_utm32N` und Mapset `PERMANENT` über den Endpunkt `/locations/<location_name>/mapsets/<mapset>/raster_layers`:"
   ]
  },
  {
   "cell_type": "code",
   "execution_count": 9,
   "id": "7d82bc4f",
   "metadata": {},
   "outputs": [
    {
     "name": "stdout",
     "output_type": "stream",
     "text": [
      "actinia GET request:\n",
      "https://actinia.mundialis.de/api/v3/locations/fossgis2023_epsg25832_utm32N/mapsets/PERMANENT/raster_layers\n",
      "---\n",
      "Raster layers in mapset PERMANENT of location fossgis2023_epsg25832_utm32N:\n",
      "[\n",
      "  \"S2_NDVI_average\",\n",
      "  \"S2_NDVI_maximum\",\n",
      "  \"S2_NDVI_stddev\",\n",
      "  \"S2_NDWI_average\",\n",
      "  \"S2_NDWI_maximum\",\n",
      "  \"S2_NDWI_stddev\",\n",
      "  \"S2_brightness_average\",\n",
      "  \"S2_brightness_maximum\",\n",
      "  \"S2_brightness_stddev\",\n",
      "  \"dop_blue\",\n",
      "  \"dop_green\",\n",
      "  \"dop_nir\",\n",
      "  \"dop_red\",\n",
      "  \"ndom\",\n",
      "  \"training_set\"\n",
      "]\n"
     ]
    }
   ],
   "source": [
    "# make a GET request to the actinia data API\n",
    "request_url = actinia_url + \"/locations/fossgis2023_epsg25832_utm32N/mapsets/PERMANENT/raster_layers\"\n",
    "print(\"actinia GET request:\")\n",
    "print(request_url)\n",
    "print(\"---\")\n",
    "request = requests.get(url=request_url, auth=actinia_auth)\n",
    "\n",
    "# check if anything went wrong\n",
    "verify_request(request, 200)\n",
    "\n",
    "# get a json-encoded content of the response\n",
    "jsonResponse = request.json()\n",
    "\n",
    "print(\"Raster layers in mapset PERMANENT of location fossgis2023_epsg25832_utm32N:\")\n",
    "\n",
    "# print formatted JSON\n",
    "print_as_json(jsonResponse[\"process_results\"])"
   ]
  },
  {
   "cell_type": "markdown",
   "id": "829bbef6",
   "metadata": {},
   "source": [
    "Abfrage der **Rasterinformationen** von der Karte `nDOM` über den Endpunkt `/locations/<location_name>/mapsets/<mapset>/raster_layers/<raster>`:"
   ]
  },
  {
   "cell_type": "code",
   "execution_count": 10,
   "id": "80eda1b1",
   "metadata": {},
   "outputs": [
    {
     "name": "stdout",
     "output_type": "stream",
     "text": [
      "actinia GET request:\n",
      "https://actinia.mundialis.de/api/v3/locations/fossgis2023_epsg25832_utm32N/mapsets/PERMANENT/raster_layers/ndom\n",
      "---\n",
      "Raster info of ndom in mapset PERMANENT of location fossgis2023_epsg25832_utm32N:\n",
      "{\n",
      "  \"cells\": \"3577600\",\n",
      "  \"cols\": \"2080\",\n",
      "  \"comments\": \"\\\"r.in.gdal -a -k -r input=\\\"/mnt/data/geodata/versiegelungsdaten/ndom_\\\\bonn/ndom50_tiff_kacheln/ndom_bonn.vrt\\\" output=\\\"ndom\\\" memory=5000 of\\\\fset=0 num_digits=0\\\"\",\n",
      "  \"creator\": \"\\\"mundialis\\\"\",\n",
      "  \"database\": \"/actinia_core/workspace/temp_db/gisdbase_ca3f20b6b76a45c3ae9ca7de512c742f\",\n",
      "  \"datatype\": \"FCELL\",\n",
      "  \"date\": \"\\\"Tue Feb 21 09:42:05 2023\\\"\",\n",
      "  \"description\": \"\\\"generated by r.in.gdal\\\"\",\n",
      "  \"east\": \"369350\",\n",
      "  \"ewres\": \"0.5\",\n",
      "  \"location\": \"fossgis2023_epsg25832_utm32N\",\n",
      "  \"map\": \"ndom\",\n",
      "  \"mapset\": \"PERMANENT\",\n",
      "  \"maptype\": \"raster\",\n",
      "  \"max\": \"39.74\",\n",
      "  \"min\": \"-3.310001\",\n",
      "  \"ncats\": \"0\",\n",
      "  \"north\": \"5621100\",\n",
      "  \"nsres\": \"0.5\",\n",
      "  \"rows\": \"1720\",\n",
      "  \"semantic_label\": \"\\\"none\\\"\",\n",
      "  \"source1\": \"\\\"\\\"\",\n",
      "  \"source2\": \"\\\"\\\"\",\n",
      "  \"south\": \"5620240\",\n",
      "  \"timestamp\": \"\\\"none\\\"\",\n",
      "  \"title\": \"\\\"ndom\\\"\",\n",
      "  \"units\": \"\\\"none\\\"\",\n",
      "  \"vdatum\": \"\\\"none\\\"\",\n",
      "  \"west\": \"368310\"\n",
      "}\n"
     ]
    }
   ],
   "source": [
    "# make a GET request to the actinia data API\n",
    "request_url = actinia_url + \"/locations/fossgis2023_epsg25832_utm32N/mapsets/PERMANENT/raster_layers/ndom\"\n",
    "print(\"actinia GET request:\")\n",
    "print(request_url)\n",
    "print(\"---\")\n",
    "request = requests.get(url=request_url, auth=actinia_auth)\n",
    "\n",
    "# check if anything went wrong\n",
    "verify_request(request, 200)\n",
    "\n",
    "# get a json-encoded content of the response\n",
    "jsonResponse = request.json()\n",
    "\n",
    "print(\"Raster info of ndom in mapset PERMANENT of location fossgis2023_epsg25832_utm32N:\")\n",
    "\n",
    "# print formatted JSON\n",
    "print_as_json(jsonResponse[\"process_results\"])"
   ]
  },
  {
   "cell_type": "markdown",
   "id": "c9fd0811",
   "metadata": {},
   "source": [
    "**Rendere eine Rasterkarte**: Rendern der Karte `ndom` über den Endpunkt `/locations/<location_name>/mapsets/<mapset>/raster_layers/<raster>/render`:"
   ]
  },
  {
   "cell_type": "code",
   "execution_count": 11,
   "id": "63ab0325",
   "metadata": {},
   "outputs": [
    {
     "name": "stdout",
     "output_type": "stream",
     "text": [
      "actinia GET request:\n",
      "https://actinia.mundialis.de/api/v3/locations/fossgis2023_epsg25832_utm32N/mapsets/PERMANENT/raster_layers/ndom/render\n",
      "---\n"
     ]
    }
   ],
   "source": [
    "# make a GET request to the actinia data API\n",
    "request_url = actinia_url + \"/locations/fossgis2023_epsg25832_utm32N/mapsets/PERMANENT/raster_layers/ndom/render\"\n",
    "print(\"actinia GET request:\")\n",
    "print(request_url)\n",
    "print(\"---\")\n",
    "request = requests.get(url=request_url, auth=actinia_auth, stream=True)\n",
    "\n",
    "# # check if anything went wrong\n",
    "# verify_request(request, 200)\n",
    "\n",
    "with open('img.png', 'wb') as out_file:\n",
    "    shutil.copyfileobj(request.raw, out_file)\n",
    "\n",
    "# # get a json-encoded content of the response\n",
    "# jsonResponse = request.json()\n",
    "\n",
    "# print(\"Raster info of ndom in mapset PERMANENT of location fossgis2023_epsg25832_utm32N:\")\n",
    "\n",
    "# # print formatted JSON\n",
    "# print_as_json(jsonResponse[\"process_results\"])\n",
    "\n",
    "\n",
    "# import shutil\n",
    "\n",
    "# import requests\n",
    "\n",
    "# url = 'http://example.com/img.png'\n",
    "# response = requests.get(url, stream=True)\n",
    "# with open('img.png', 'wb') as out_file:\n",
    "#     shutil.copyfileobj(response.raw, out_file)"
   ]
  },
  {
   "cell_type": "markdown",
   "id": "4cf4bd77",
   "metadata": {},
   "source": [
    "Die `ndom` Ergebniskarte wird folgendermaßen aussehen:\n",
    "\n",
    "![requested_ndom_png](images/ndom.png)"
   ]
  },
  {
   "cell_type": "markdown",
   "id": "25cd3b05",
   "metadata": {},
   "source": [
    "Auflistung aller **Vektorkarten** in der Location `fossgis2023_epsg25832_utm32N` und Mapset `PERMANENT` über Endpunkt `/locations/<location_name>/mapsets/<mapset>/vector_layers`:"
   ]
  },
  {
   "cell_type": "code",
   "execution_count": 12,
   "id": "59f7f9fe",
   "metadata": {},
   "outputs": [
    {
     "name": "stdout",
     "output_type": "stream",
     "text": [
      "actinia GET request:\n",
      "https://actinia.mundialis.de/api/v3/locations/fossgis2023_epsg25832_utm32N/mapsets/PERMANENT/vector_layers\n",
      "---\n",
      "Vector layers in mapset PERMANENT of location fossgis2023_epsg25832_utm32N:\n",
      "[\n",
      "  \"alkis_nutzung\",\n",
      "  \"buildings\",\n",
      "  \"roads\",\n",
      "  \"training_set\"\n",
      "]\n"
     ]
    }
   ],
   "source": [
    "# make a GET request to the actinia data API\n",
    "request_url = actinia_url + \"/locations/fossgis2023_epsg25832_utm32N/mapsets/PERMANENT/vector_layers\"\n",
    "print(\"actinia GET request:\")\n",
    "print(request_url)\n",
    "print(\"---\")\n",
    "request = requests.get(url=request_url, auth=actinia_auth)\n",
    "\n",
    "# check if anything went wrong\n",
    "verify_request(request, 200)\n",
    "\n",
    "# get a json-encoded content of the response\n",
    "jsonResponse = request.json()\n",
    "\n",
    "print(\"Vector layers in mapset PERMANENT of location fossgis2023_epsg25832_utm32N:\")\n",
    "\n",
    "# print formatted JSON\n",
    "print_as_json(jsonResponse[\"process_results\"])"
   ]
  },
  {
   "cell_type": "markdown",
   "id": "f7e54bfd",
   "metadata": {},
   "source": [
    "---\n",
    "\n",
    "### Benutzerdefinierte Verarbeitung\n",
    "\n",
    "Actinia nutzt den **Prozesskettenansatz**, um für Import, Verarbeitung und Export von Geodaten mit dem actinia GRASS GIS Verarbeitungssystem zu kommunizieren.\n",
    "\n",
    "#### Was ist eine Prozesskette?\n",
    "\n",
    "Eine Prozesskette ist eine Liste von GRASS GIS Modulen, die nacheinander in der Reihenfolge der Liste ausgeführt werden. GRASS GIS Module werden als Prozessdefinitionen spezifiziert, die den Namen des Befehls, die Ein- und Ausgaben, einschließlich Import- und Exportdefinitionen sowie die Modulflags enthalten.\n",
    "\n",
    "Die Prozesskette muss in JSON formuliert werden.\n",
    "\n",
    "#### Ephemere vs. persistente Verarbeitung\n",
    "\n",
    "Die Verarbeitung erfolgt immer in einer temporären ephemeren Datenbank, mit der die Daten aus der persistenten und der Benutzerdatenbank verknüpft werden.\n",
    "\n",
    "Der Prozess kann dann **ephemeral** oder **persistent** durchgeführt werden.\n",
    "\n",
    "Bei der **persistenten** Verarbeitung kann die ephemere Datenbank in die persistente Benutzerdatenbank verschoben werden, so dass die Berechnungsergebnisse in weiteren Verarbeitungsschritten verwendet oder mit Hilfe der actinia REST-Aufrufe visualisiert werden können.\n",
    "\n",
    "Bei der **ephemeren** Verarbeitung wird die ephemere Datenbank nach der Berechnung entfernt.\n",
    "\n",
    "Allerdings können alle Raster- und Vektordaten, die während der Verarbeitung erzeugt wurden, mit GDAL/OGR-spezifischen Datentypen exportiert und in einem Objektspeicher außerhalb der actinia-Umgebung gespeichert werden. \n",
    "\n",
    "Bei beiden Verarbeitungstypen besteht nur Lesezugriff auf alle Karten des verwendeten persistenten Datenbankspeichers."
   ]
  },
  {
   "cell_type": "markdown",
   "id": "2591c918",
   "metadata": {},
   "source": [
    "#### Erstellen einer Prozesskette Schritt für Schritt\n",
    "\n",
    "Wir erstellen nun Schritt für Schritt eine Prozesskette anhand des Beispiels der Berechnung des Normalized Difference Vegetation Index (NDVI).\n",
    "\n",
    "Erstellen Sie zunächst eine leere Prozesskette:"
   ]
  },
  {
   "cell_type": "code",
   "execution_count": 14,
   "id": "631f1425",
   "metadata": {},
   "outputs": [],
   "source": [
    "process_chain = {\"version\": 1, \"list\": []}"
   ]
  },
  {
   "cell_type": "markdown",
   "id": "524ed150",
   "metadata": {},
   "source": [
    "Fügen Sie den ersten Eintrag in die Prozesskettenliste ein.\n",
    "\n",
    "Für Rasteroperationen müssen wir die **Rechenregion** ([computational region](https://grasswiki.osgeo.org/wiki/Computational_region)) auf die Region von Interesse mit der gewünschten Auflösung setzen.\n",
    "\n",
    "***Hinweis:*** Sie müssen den Namen der Karte und der Mapset folgendermaßen angeben: \"map_name@mapset_name\"."
   ]
  },
  {
   "cell_type": "code",
   "execution_count": 15,
   "id": "19988629",
   "metadata": {},
   "outputs": [
    {
     "name": "stdout",
     "output_type": "stream",
     "text": [
      "{\n",
      "  \"version\": 1,\n",
      "  \"list\": [\n",
      "    {\n",
      "      \"id\": \"g_region_to_dop\",\n",
      "      \"module\": \"g.region\",\n",
      "      \"inputs\": [\n",
      "        {\n",
      "          \"param\": \"raster\",\n",
      "          \"value\": \"dop_nir@PERMANENT\"\n",
      "        }\n",
      "      ],\n",
      "      \"flags\": \"p\"\n",
      "    }\n",
      "  ]\n",
      "}\n"
     ]
    }
   ],
   "source": [
    "# list item for g.region\n",
    "region_process = {\n",
    "  \"id\": \"g_region_to_dop\",\n",
    "  \"module\": \"g.region\",\n",
    "  \"inputs\": [\n",
    "      {\n",
    "          \"param\": \"raster\",\n",
    "          \"value\": \"dop_nir@PERMANENT\"\n",
    "      }\n",
    "  ],\n",
    "  \"flags\": \"p\"\n",
    "}\n",
    "process_chain[\"list\"].append(region_process)\n",
    "print_as_json(process_chain)"
   ]
  },
  {
   "cell_type": "markdown",
   "id": "05521c83",
   "metadata": {},
   "source": [
    "Nun fügen wir die NDVI-Verarbeitung in die Prozesskettenliste ein:"
   ]
  },
  {
   "cell_type": "code",
   "execution_count": 16,
   "id": "7a3f7980",
   "metadata": {},
   "outputs": [
    {
     "name": "stdout",
     "output_type": "stream",
     "text": [
      "{\n",
      "  \"version\": 1,\n",
      "  \"list\": [\n",
      "    {\n",
      "      \"id\": \"g_region_to_dop\",\n",
      "      \"module\": \"g.region\",\n",
      "      \"inputs\": [\n",
      "        {\n",
      "          \"param\": \"raster\",\n",
      "          \"value\": \"dop_nir@PERMANENT\"\n",
      "        }\n",
      "      ],\n",
      "      \"flags\": \"p\"\n",
      "    },\n",
      "    {\n",
      "      \"id\": \"r_mapcalc_ndvi\",\n",
      "      \"module\": \"r.mapcalc\",\n",
      "      \"inputs\": [\n",
      "        {\n",
      "          \"param\": \"expression\",\n",
      "          \"value\": \"ndvi = int(127.5 * ( float((dop_nir@PERMANENT - dop_red@PERMANENT) / (dop_nir@PERMANENT + dop_red@PERMANENT)) + 1.0 ) )\"\n",
      "        }\n",
      "      ]\n",
      "    }\n",
      "  ]\n",
      "}\n"
     ]
    }
   ],
   "source": [
    "# list item for r.mapcalc\n",
    "ndvi_process = {\n",
    "  \"id\": \"r_mapcalc_ndvi\",\n",
    "  \"module\": \"r.mapcalc\",\n",
    "  \"inputs\": [\n",
    "      {\n",
    "          \"param\": \"expression\",\n",
    "          \"value\": \"ndvi = int(127.5 * ( float((dop_nir@PERMANENT - dop_red@PERMANENT) / (dop_nir@PERMANENT + dop_red@PERMANENT)) + 1.0 ) )\"\n",
    "      }\n",
    "  ]\n",
    "}\n",
    "process_chain[\"list\"].append(ndvi_process)\n",
    "print_as_json(process_chain)"
   ]
  },
  {
   "cell_type": "markdown",
   "id": "be1fe396",
   "metadata": {},
   "source": [
    "Anzeige der Statistikinformationen der berechneten NDVI-Karte:"
   ]
  },
  {
   "cell_type": "code",
   "execution_count": 17,
   "id": "ae071f5f",
   "metadata": {},
   "outputs": [
    {
     "name": "stdout",
     "output_type": "stream",
     "text": [
      "{\n",
      "  \"version\": 1,\n",
      "  \"list\": [\n",
      "    {\n",
      "      \"id\": \"g_region_to_dop\",\n",
      "      \"module\": \"g.region\",\n",
      "      \"inputs\": [\n",
      "        {\n",
      "          \"param\": \"raster\",\n",
      "          \"value\": \"dop_nir@PERMANENT\"\n",
      "        }\n",
      "      ],\n",
      "      \"flags\": \"p\"\n",
      "    },\n",
      "    {\n",
      "      \"id\": \"r_mapcalc_ndvi\",\n",
      "      \"module\": \"r.mapcalc\",\n",
      "      \"inputs\": [\n",
      "        {\n",
      "          \"param\": \"expression\",\n",
      "          \"value\": \"ndvi = int(127.5 * ( float((dop_nir@PERMANENT - dop_red@PERMANENT) / (dop_nir@PERMANENT + dop_red@PERMANENT)) + 1.0 ) )\"\n",
      "        }\n",
      "      ]\n",
      "    },\n",
      "    {\n",
      "      \"id\": \"r_univar_ndvi\",\n",
      "      \"module\": \"r.univar\",\n",
      "      \"inputs\": [\n",
      "        {\n",
      "          \"param\": \"map\",\n",
      "          \"value\": \"ndvi\"\n",
      "        }\n",
      "      ],\n",
      "      \"flags\": \"g\",\n",
      "      \"stdout\": {\n",
      "        \"id\": \"ndvi_stats\",\n",
      "        \"format\": \"kv\",\n",
      "        \"delimiter\": \"=\"\n",
      "      }\n",
      "    }\n",
      "  ]\n",
      "}\n"
     ]
    }
   ],
   "source": [
    "# list item for r.univar\n",
    "ndvi_stats_process = {\n",
    "          \"id\": \"r_univar_ndvi\",\n",
    "          \"module\": \"r.univar\",\n",
    "          \"inputs\": [\n",
    "              {\n",
    "                  \"param\": \"map\",\n",
    "                  \"value\": \"ndvi\"\n",
    "              }\n",
    "          ],\n",
    "          \"flags\": \"g\",\n",
    "          \"stdout\": {\"id\": \"ndvi_stats\", \"format\": \"kv\", \"delimiter\": \"=\"}\n",
    "      }\n",
    "process_chain[\"list\"].append(ndvi_stats_process)\n",
    "print_as_json(process_chain)"
   ]
  },
  {
   "cell_type": "markdown",
   "id": "064de4ea",
   "metadata": {},
   "source": [
    "Export der NDVI-Rasterkarte im COG-Format, da wir im ephemeralen Modus gerechnet haben:"
   ]
  },
  {
   "cell_type": "code",
   "execution_count": 18,
   "id": "b32574d8",
   "metadata": {},
   "outputs": [
    {
     "name": "stdout",
     "output_type": "stream",
     "text": [
      "{\n",
      "  \"version\": 1,\n",
      "  \"list\": [\n",
      "    {\n",
      "      \"id\": \"g_region_to_dop\",\n",
      "      \"module\": \"g.region\",\n",
      "      \"inputs\": [\n",
      "        {\n",
      "          \"param\": \"raster\",\n",
      "          \"value\": \"dop_nir@PERMANENT\"\n",
      "        }\n",
      "      ],\n",
      "      \"flags\": \"p\"\n",
      "    },\n",
      "    {\n",
      "      \"id\": \"r_mapcalc_ndvi\",\n",
      "      \"module\": \"r.mapcalc\",\n",
      "      \"inputs\": [\n",
      "        {\n",
      "          \"param\": \"expression\",\n",
      "          \"value\": \"ndvi = int(127.5 * ( float((dop_nir@PERMANENT - dop_red@PERMANENT) / (dop_nir@PERMANENT + dop_red@PERMANENT)) + 1.0 ) )\"\n",
      "        }\n",
      "      ]\n",
      "    },\n",
      "    {\n",
      "      \"id\": \"r_univar_ndvi\",\n",
      "      \"module\": \"r.univar\",\n",
      "      \"inputs\": [\n",
      "        {\n",
      "          \"param\": \"map\",\n",
      "          \"value\": \"ndvi\"\n",
      "        }\n",
      "      ],\n",
      "      \"flags\": \"g\",\n",
      "      \"stdout\": {\n",
      "        \"id\": \"ndvi_stats\",\n",
      "        \"format\": \"kv\",\n",
      "        \"delimiter\": \"=\"\n",
      "      }\n",
      "    },\n",
      "    {\n",
      "      \"id\": \"exporter_ndvi\",\n",
      "      \"module\": \"exporter\",\n",
      "      \"outputs\": [\n",
      "        {\n",
      "          \"export\": {\n",
      "            \"type\": \"raster\",\n",
      "            \"format\": \"COG\"\n",
      "          },\n",
      "          \"param\": \"map\",\n",
      "          \"value\": \"ndvi\"\n",
      "        }\n",
      "      ]\n",
      "    }\n",
      "  ]\n",
      "}\n"
     ]
    }
   ],
   "source": [
    "# list item for exporter\n",
    "export_process = {\n",
    "  \"id\": \"exporter_ndvi\",\n",
    "  \"module\": \"exporter\",\n",
    "  \"outputs\": [\n",
    "    {\n",
    "      \"export\": {\n",
    "        \"type\": \"raster\",\n",
    "        \"format\": \"COG\"\n",
    "      },\n",
    "      \"param\": \"map\",\n",
    "      \"value\": \"ndvi\"\n",
    "    }\n",
    "  ]\n",
    "}\n",
    "process_chain[\"list\"].append(export_process)\n",
    "print_as_json(process_chain)"
   ]
  },
  {
   "cell_type": "markdown",
   "id": "69ad332e",
   "metadata": {},
   "source": [
    "Führen Sie nun den Job aus, indem Sie die Prozesskette an den ephemeren Endpunkt `/locations/<location_name>/processing_async_export` senden."
   ]
  },
  {
   "cell_type": "code",
   "execution_count": 19,
   "id": "65a0a36c",
   "metadata": {},
   "outputs": [
    {
     "name": "stdout",
     "output_type": "stream",
     "text": [
      "Response with status code 200:\n",
      "{\n",
      "  \"accept_datetime\": \"2023-03-03 08:43:16.938511\",\n",
      "  \"accept_timestamp\": 1677832996.9385076,\n",
      "  \"api_info\": {\n",
      "    \"endpoint\": \"asyncephemeralexportresource\",\n",
      "    \"method\": \"POST\",\n",
      "    \"path\": \"/api/v3/locations/fossgis2023_epsg25832_utm32N/processing_async_export\",\n",
      "    \"request_url\": \"http://actinia.mundialis.de/api/v3/locations/fossgis2023_epsg25832_utm32N/processing_async_export\"\n",
      "  },\n",
      "  \"datetime\": \"2023-03-03 08:43:16.941115\",\n",
      "  \"http_code\": 200,\n",
      "  \"message\": \"Resource accepted\",\n",
      "  \"process_chain_list\": [],\n",
      "  \"process_results\": {},\n",
      "  \"queue\": \"local\",\n",
      "  \"resource_id\": \"resource_id-2d6704d9-fdf2-4c64-93e4-0fa053d70bde\",\n",
      "  \"status\": \"accepted\",\n",
      "  \"time_delta\": 0.002614736557006836,\n",
      "  \"timestamp\": 1677832996.9411137,\n",
      "  \"urls\": {\n",
      "    \"resources\": [],\n",
      "    \"status\": \"https://actinia.mundialis.de/api/v3/resources/fossgis2023/resource_id-2d6704d9-fdf2-4c64-93e4-0fa053d70bde\"\n",
      "  },\n",
      "  \"user_id\": \"fossgis2023\"\n",
      "}\n",
      "status url:\n",
      "https://actinia.mundialis.de/api/v3/resources/fossgis2023/resource_id-2d6704d9-fdf2-4c64-93e4-0fa053d70bde\n"
     ]
    }
   ],
   "source": [
    "# create a POST request to the Actinia Data API\n",
    "request_url = actinia_url + \"/locations/fossgis2023_epsg25832_utm32N/processing_async_export\"\n",
    "request = requests.post(url=request_url, auth=actinia_auth, json=process_chain)\n",
    "\n",
    "# check if anything went wrong\n",
    "verify_request(request, 200)\n",
    "\n",
    "# get a json-encoded content of the response\n",
    "jsonResponse = request.json()\n",
    "print(\"Response with status code %d:\" % request.status_code)\n",
    "\n",
    "# print formatted JSON\n",
    "print_as_json(jsonResponse)\n",
    "\n",
    "# status url\n",
    "request_url = jsonResponse[\"urls\"][\"status\"]\n",
    "print(\"status url:\")\n",
    "print(request_url)"
   ]
  },
  {
   "cell_type": "markdown",
   "id": "631dbbbc",
   "metadata": {},
   "source": [
    "Das Wichtigste an der Actinia-Antwort ist der **Status**, der `accepted` oder `running` sein sollte, und die **Status-URL** unter `urls - status`.\n",
    "\n",
    "Die Verarbeitung erfolgt asynchron, was bedeutet, dass die Anfrage gesendet wird und Sie nur die Status-URL erhalten, so dass Sie den aktuellen Status der Verarbeitung abfragen können, bis der Job beendet ist.\n",
    "\n",
    "Der **Status** eines Prozesses kann sein:\n",
    "* accepted: actinia hat den Auftrag erhalten und wird in Kürze mit der Verarbeitung beginnen\n",
    "* running: actinia führt den Auftrag aus\n",
    "* finished: actinia hat den Auftrag erfolgreich beendet\n",
    "* error: während der Ausführung des Auftrags ist ein Fehler aufgetreten\n",
    "* terminated: ein: Benutzer:in hat den Auftrag abgebrochen"
   ]
  },
  {
   "cell_type": "markdown",
   "id": "25e91b81",
   "metadata": {},
   "source": [
    "Auftrag anfordern bis zum Abschluss oder Fehler:"
   ]
  },
  {
   "cell_type": "code",
   "execution_count": 20,
   "id": "baa47f56",
   "metadata": {},
   "outputs": [
    {
     "name": "stdout",
     "output_type": "stream",
     "text": [
      "https://actinia.mundialis.de/api/v3/resources/fossgis2023/resource_id-2d6704d9-fdf2-4c64-93e4-0fa053d70bde\n",
      "{\n",
      "  \"accept_datetime\": \"2023-03-03 08:43:16.938511\",\n",
      "  \"accept_timestamp\": 1677832996.9385076,\n",
      "  \"api_info\": {\n",
      "    \"endpoint\": \"asyncephemeralexportresource\",\n",
      "    \"method\": \"POST\",\n",
      "    \"path\": \"/api/v3/locations/fossgis2023_epsg25832_utm32N/processing_async_export\",\n",
      "    \"request_url\": \"http://actinia.mundialis.de/api/v3/locations/fossgis2023_epsg25832_utm32N/processing_async_export\"\n",
      "  },\n",
      "  \"datetime\": \"2023-03-03 08:43:31.462777\",\n",
      "  \"http_code\": 200,\n",
      "  \"message\": \"Processing successfully finished\",\n",
      "  \"process_chain_list\": [\n",
      "    {\n",
      "      \"list\": [\n",
      "        {\n",
      "          \"flags\": \"p\",\n",
      "          \"id\": \"g_region_to_dop\",\n",
      "          \"inputs\": [\n",
      "            {\n",
      "              \"param\": \"raster\",\n",
      "              \"value\": \"dop_nir@PERMANENT\"\n",
      "            }\n",
      "          ],\n",
      "          \"module\": \"g.region\"\n",
      "        },\n",
      "        {\n",
      "          \"id\": \"r_mapcalc_ndvi\",\n",
      "          \"inputs\": [\n",
      "            {\n",
      "              \"param\": \"expression\",\n",
      "              \"value\": \"ndvi = int(127.5 * ( float((dop_nir@PERMANENT - dop_red@PERMANENT) / (dop_nir@PERMANENT + dop_red@PERMANENT)) + 1.0 ) )\"\n",
      "            }\n",
      "          ],\n",
      "          \"module\": \"r.mapcalc\"\n",
      "        },\n",
      "        {\n",
      "          \"flags\": \"g\",\n",
      "          \"id\": \"r_univar_ndvi\",\n",
      "          \"inputs\": [\n",
      "            {\n",
      "              \"param\": \"map\",\n",
      "              \"value\": \"ndvi\"\n",
      "            }\n",
      "          ],\n",
      "          \"module\": \"r.univar\",\n",
      "          \"stdout\": {\n",
      "            \"delimiter\": \"=\",\n",
      "            \"format\": \"kv\",\n",
      "            \"id\": \"ndvi_stats\"\n",
      "          }\n",
      "        },\n",
      "        {\n",
      "          \"id\": \"exporter_ndvi\",\n",
      "          \"module\": \"exporter\",\n",
      "          \"outputs\": [\n",
      "            {\n",
      "              \"export\": {\n",
      "                \"format\": \"COG\",\n",
      "                \"type\": \"raster\"\n",
      "              },\n",
      "              \"param\": \"map\",\n",
      "              \"value\": \"ndvi\"\n",
      "            }\n",
      "          ]\n",
      "        }\n",
      "      ],\n",
      "      \"version\": 1\n",
      "    }\n",
      "  ],\n",
      "  \"process_log\": [\n",
      "    {\n",
      "      \"executable\": \"g.region\",\n",
      "      \"id\": \"g_region_to_dop\",\n",
      "      \"mapset_size\": 417,\n",
      "      \"parameter\": [\n",
      "        \"raster=dop_nir@PERMANENT\",\n",
      "        \"-p\"\n",
      "      ],\n",
      "      \"return_code\": 0,\n",
      "      \"run_time\": 0.150651216506958,\n",
      "      \"stderr\": [\n",
      "        \"\"\n",
      "      ],\n",
      "      \"stdout\": \"projection: 1 (UTM)\\nzone:       32\\ndatum:      etrs89\\nellipsoid:  grs80\\nnorth:      5621100\\nsouth:      5620240\\nwest:       368310\\neast:       369350\\nnsres:      0.2\\newres:      0.2\\nrows:       4300\\ncols:       5200\\ncells:      22360000\\n\"\n",
      "    },\n",
      "    {\n",
      "      \"executable\": \"r.mapcalc\",\n",
      "      \"id\": \"r_mapcalc_ndvi\",\n",
      "      \"mapset_size\": 15936763,\n",
      "      \"parameter\": [\n",
      "        \"expression=ndvi = int(127.5 * ( float((dop_nir@PERMANENT - dop_red@PERMANENT) / (dop_nir@PERMANENT + dop_red@PERMANENT)) + 1.0 ) )\"\n",
      "      ],\n",
      "      \"return_code\": 0,\n",
      "      \"run_time\": 6.077102422714233,\n",
      "      \"stderr\": [\n",
      "        \"\"\n",
      "      ],\n",
      "      \"stdout\": \"\"\n",
      "    },\n",
      "    {\n",
      "      \"executable\": \"r.univar\",\n",
      "      \"id\": \"r_univar_ndvi\",\n",
      "      \"mapset_size\": 15936763,\n",
      "      \"parameter\": [\n",
      "        \"map=ndvi\",\n",
      "        \"-g\"\n",
      "      ],\n",
      "      \"return_code\": 0,\n",
      "      \"run_time\": 0.752732515335083,\n",
      "      \"stderr\": [\n",
      "        \"\"\n",
      "      ],\n",
      "      \"stdout\": \"n=22360000\\nnull_cells=0\\ncells=22360000\\nmin=78\\nmax=229\\nrange=151\\nmean=163.656722495528\\nmean_of_abs=163.656722495528\\nstddev=32.2262446859188\\nvariance=1038.53084655671\\ncoeff_var=19.6913662906817\\nsum=3659364315\\n\"\n",
      "    },\n",
      "    {\n",
      "      \"executable\": \"r.out.gdal\",\n",
      "      \"id\": \"exporter_raster_ndvi\",\n",
      "      \"mapset_size\": 15936763,\n",
      "      \"parameter\": [\n",
      "        \"-fmt\",\n",
      "        \"input=ndvi\",\n",
      "        \"format=COG\",\n",
      "        \"output=/actinia_core/workspace/temp_db/gisdbase_18293217dadf4ad1b0bf66770099248f/.tmp/ndvi.tif\",\n",
      "        \"createopt=BIGTIFF=YES,COMPRESS=LZW\",\n",
      "        \"-c\"\n",
      "      ],\n",
      "      \"return_code\": 0,\n",
      "      \"run_time\": 4.418903589248657,\n",
      "      \"stderr\": [\n",
      "        \"Driver <COG> does not support direct writing. Using MEM driver for intermediate dataset.\",\n",
      "        \"Checking GDAL data type and nodata value...\",\n",
      "        \"2..5..8..11..14..17..20..23..26..29..32..35..38..41..44..47..50..53..56..59..62..65..68..71..74..77..80..83..86..89..92..95..98..100\",\n",
      "        \"Using GDAL data type <Byte>\",\n",
      "        \"Warning 6: driver MEM does not support creation option BIGTIFF\",\n",
      "        \"Warning 6: driver MEM does not support creation option COMPRESS\",\n",
      "        \"Exporting raster data to COG format...\",\n",
      "        \"2..5..8..11..14..17..20..23..26..29..32..35..38..41..44..47..50..53..56..59..62..65..68..71..74..77..80..83..86..89..92..95..98..100\",\n",
      "        \"r.out.gdal complete. File </actinia_core/workspace/temp_db/gisdbase_18293217dadf4ad1b0bf66770099248f/.tmp/ndvi.tif> created.\",\n",
      "        \"\"\n",
      "      ],\n",
      "      \"stdout\": \"\"\n",
      "    }\n",
      "  ],\n",
      "  \"process_results\": {\n",
      "    \"ndvi_stats\": {\n",
      "      \"cells\": \"22360000\",\n",
      "      \"coeff_var\": \"19.6913662906817\",\n",
      "      \"max\": \"229\",\n",
      "      \"mean\": \"163.656722495528\",\n",
      "      \"mean_of_abs\": \"163.656722495528\",\n",
      "      \"min\": \"78\",\n",
      "      \"n\": \"22360000\",\n",
      "      \"null_cells\": \"0\",\n",
      "      \"range\": \"151\",\n",
      "      \"stddev\": \"32.2262446859188\",\n",
      "      \"sum\": \"3659364315\",\n",
      "      \"variance\": \"1038.53084655671\"\n",
      "    }\n",
      "  },\n",
      "  \"progress\": {\n",
      "    \"num_of_steps\": 4,\n",
      "    \"step\": 4\n",
      "  },\n",
      "  \"queue\": \"local\",\n",
      "  \"resource_id\": \"resource_id-2d6704d9-fdf2-4c64-93e4-0fa053d70bde\",\n",
      "  \"status\": \"finished\",\n",
      "  \"time_delta\": 14.52428412437439,\n",
      "  \"timestamp\": 1677833011.4627714,\n",
      "  \"urls\": {\n",
      "    \"resources\": [\n",
      "      \"https://actinia.mundialis.de/api/v3/resources/fossgis2023/resource_id-2d6704d9-fdf2-4c64-93e4-0fa053d70bde/ndvi.tif\"\n",
      "    ],\n",
      "    \"status\": \"https://actinia.mundialis.de/api/v3/resources/fossgis2023/resource_id-2d6704d9-fdf2-4c64-93e4-0fa053d70bde\"\n",
      "  },\n",
      "  \"user_id\": \"fossgis2023\"\n",
      "}\n"
     ]
    }
   ],
   "source": [
    "# continue polling until finished\n",
    "print(request_url)\n",
    "\n",
    "while request.status_code == 200 and \\\n",
    "        jsonResponse[\"message\"] != \"Processing successfully finished\":\n",
    "    request = requests.get(url=request_url, auth=actinia_auth)\n",
    "    jsonResponse = request.json()\n",
    "\n",
    "# check if anything went wrong\n",
    "verify_request(request, 200)\n",
    "    \n",
    "# print formatted JSON\n",
    "print_as_json(jsonResponse)"
   ]
  },
  {
   "cell_type": "markdown",
   "id": "3d000536",
   "metadata": {},
   "source": [
    "Visualisierung der mit Actinia berechneten Karten in Leafmap:"
   ]
  },
  {
   "cell_type": "code",
   "execution_count": 27,
   "id": "45bfc32c",
   "metadata": {},
   "outputs": [],
   "source": [
    "import leafmap\n",
    "\n",
    "ndvi_url = jsonResponse[\"urls\"][\"resources\"][0]\n",
    "\n",
    "# add the credentials to URL\n",
    "\n",
    "ndvi_url = ndvi_url.replace(\"//\", \"//fossgis2023:ieh0ahweefavicieca6g@\")"
   ]
  },
  {
   "cell_type": "markdown",
   "id": "887792ac",
   "metadata": {},
   "source": [
    "Prüfen, ob es sich um das COG Format handelt (sollte `True` liefern; Analyse dauert einen Moment):"
   ]
  },
  {
   "cell_type": "code",
   "execution_count": 28,
   "id": "8dc62859",
   "metadata": {},
   "outputs": [
    {
     "data": {
      "text/plain": [
       "(True, [], [])"
      ]
     },
     "execution_count": 28,
     "metadata": {},
     "output_type": "execute_result"
    }
   ],
   "source": [
    "leafmap.cog_validate(ndvi_url)"
   ]
  },
  {
   "cell_type": "markdown",
   "id": "315d8589",
   "metadata": {},
   "source": [
    "Anzeigen mit der mit actinia berechneten Karte in Leafmap:\n",
    "\n",
    "<span style=\"color:red\">**TODO oben color=ndvi einbauen!**</span>"
   ]
  },
  {
   "cell_type": "code",
   "execution_count": 32,
   "id": "6af05a5b",
   "metadata": {},
   "outputs": [
    {
     "data": {
      "application/vnd.jupyter.widget-view+json": {
       "model_id": "8f000e53a5d440efa868393d1f9aea8b",
       "version_major": 2,
       "version_minor": 0
      },
      "text/plain": [
       "Map(center=[20, 0], controls=(ZoomControl(options=['position', 'zoom_in_text', 'zoom_in_title', 'zoom_out_text…"
      ]
     },
     "metadata": {},
     "output_type": "display_data"
    }
   ],
   "source": [
    "m = leafmap.Map()\n",
    "\n",
    "# colors as hex or RGB values,\n",
    "# color can be defined using either hex code or RGB (0-255, 0-255, 0-255)\n",
    "# see: https://leafmap.org/notebooks/06_legend/ and https://leafmap.org/notebooks/07_colorbar/\n",
    "# default_vis=True: use color table of COG file\\n\",\n",
    "\n",
    "m.add_cog_layer(ndvi_url, name=\"NDVI\", default_vis=True,\n",
    "                attribution='<a href=\"https://actinia.mundialis.de/\">https://actinia.mundialis.de/</a>')\n",
    "# show map\n",
    "m"
   ]
  },
  {
   "cell_type": "markdown",
   "id": "08b2f4f4",
   "metadata": {},
   "source": [
    "Die Karte zeigt die NDVI-Werte aus Sentinel-2 am Überflugstermin des Satelliten an.\n",
    "\n",
    "Hinweis: Leafmap bietet oben rechts eine reichhaltige Toolbox."
   ]
  }
 ],
 "metadata": {
  "kernelspec": {
   "display_name": "Python 3 (ipykernel)",
   "language": "python",
   "name": "python3"
  },
  "language_info": {
   "codemirror_mode": {
    "name": "ipython",
    "version": 3
   },
   "file_extension": ".py",
   "mimetype": "text/x-python",
   "name": "python",
   "nbconvert_exporter": "python",
   "pygments_lexer": "ipython3",
   "version": "3.11.2"
  },
  "vscode": {
   "interpreter": {
    "hash": "df0893f56f349688326838aaeea0de204df53a132722cbd565e54b24a8fec5f6"
   }
  },
  "widgets": {
   "application/vnd.jupyter.widget-state+json": {
    "state": {},
    "version_major": 2,
    "version_minor": 0
   }
  }
 },
 "nbformat": 4,
 "nbformat_minor": 5
}
